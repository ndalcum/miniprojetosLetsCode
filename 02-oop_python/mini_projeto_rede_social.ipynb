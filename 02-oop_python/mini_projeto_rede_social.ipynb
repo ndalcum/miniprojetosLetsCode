{
 "cells": [
  {
   "cell_type": "code",
   "execution_count": 211,
   "id": "78ba814e-b6b6-418e-a4f2-de9a58a1c752",
   "metadata": {},
   "outputs": [],
   "source": [
    "class User:\n",
    "    '''\n",
    "    Creates a user profile in Rede Social.\n",
    "    '''    \n",
    "    def __init__(self, name, email, nickname='', birth_date=''):\n",
    "        '''\n",
    "        Parameters\n",
    "        ----------\n",
    "        name : str\n",
    "            User name\n",
    "        email : str\n",
    "            User e-mail\n",
    "        nickname : str\n",
    "            User nick name\n",
    "        birth_date : str\n",
    "            User birth date\n",
    "        '''\n",
    "        \n",
    "        #------ ATRIBUTOS VINCULADOS AO CONSTRUTOR\n",
    "        # User precisa de nome para ser identificado na Rede Social\n",
    "        self.name = name\n",
    "        # E-mail é o único contato, imprescindível para vincular a conta a um login e recuperar senha\n",
    "        self.email = email\n",
    "        \n",
    "        # Atributos opcionais - Não são imprescindíveis para a criação do perfil, mas vai do escopo do projeto\n",
    "        self.nickname = nickname\n",
    "        # Todo ser humano tem uma data de nascimento - pode ser solicitado como régua de permissão de uso (+18 por ex)\n",
    "        self.birth_date = birth_date\n",
    "        \n",
    "        #------ ATRIBUTOS NÃO VINCULADOS AO CONSTRUTOR\n",
    "        self.friend_list = []\n",
    "        self.interests = []\n",
    "        self.posts = []\n",
    "        \n",
    "    def add_friend(self, user):\n",
    "        '''\n",
    "        Adds friends to user's friend list and appends user to friend's friend list.\n",
    "        \n",
    "        Parameters\n",
    "        ----------\n",
    "        friend : User\n",
    "            User profile to be added on friend list.\n",
    "            \n",
    "        Returns\n",
    "        -------\n",
    "        True if successful\n",
    "        False if not successful (user added before)\n",
    "        '''\n",
    "        if (self not in user.friend_list) and (user != self):\n",
    "            self.friend_list.append(user)\n",
    "            user.friend_list.append(self)\n",
    "            return True\n",
    "        return False\n",
    "\n",
    "    def add_interest(self, interest):\n",
    "        '''\n",
    "        Adds interests to user's list of interests.\n",
    "        \n",
    "        Parameters\n",
    "        ----------\n",
    "        interest : str\n",
    "            Interest to be added on user's list of interests.\n",
    "            \n",
    "        Returns\n",
    "        -------\n",
    "        True if successful\n",
    "        False if not successful (interest added before)\n",
    "        '''\n",
    "        if interest not in self.interests:\n",
    "            self.interests.append(interest)\n",
    "            return True\n",
    "        return False\n",
    "    \n",
    "    def add_post(self, post):\n",
    "        '''\n",
    "        Posts a message on Rede Social and links it to user profile. \n",
    "        \n",
    "        Parameters\n",
    "        ----------\n",
    "        post : str\n",
    "            Message to be posted and linked to user profile.\n",
    "        \n",
    "        Returns\n",
    "        -------\n",
    "        True\n",
    "        '''\n",
    "        self.posts.append(post)\n",
    "        return True\n",
    "    \n",
    "    def count_friends(self):\n",
    "        '''\n",
    "        Returns the number of friends a user has in his/her friendlist.\n",
    "        \n",
    "        Returns\n",
    "        -------\n",
    "        out : int\n",
    "        '''\n",
    "        return len(self.friend_list)\n",
    "    \n",
    "    def count_posts(self):\n",
    "        '''\n",
    "        Returns the number of posts a user has posted so far.\n",
    "        \n",
    "        Returns\n",
    "        -------\n",
    "        out : int\n",
    "        '''\n",
    "        return len(self.posts)\n",
    "    \n",
    "    def is_friend(self, query):\n",
    "        '''\n",
    "        Takes in a string (query) and verifies if it matches any name in user's friend list.\n",
    "\n",
    "        Parameters\n",
    "        ----------\n",
    "        query : str\n",
    "            Value to be searched among friends names.\n",
    "\n",
    "        Returns\n",
    "        -------\n",
    "        Returns True if any friend in user's friend list has a name that matches the query. If none matches, returns False.\n",
    "        '''\n",
    "        search_results = []\n",
    "        \n",
    "        for friend in self.friend_list:\n",
    "\n",
    "            for word in friend.name.split():\n",
    "                if query.lower() == word.lower():\n",
    "                    search_results.append(friend)\n",
    "\n",
    "        if search_results != []:\n",
    "            return True\n",
    "        return False\n",
    "\n",
    "    \n",
    "    def search_in_posts(self, query):\n",
    "        '''\n",
    "        Takes in a string (query) and verifies if it matches any word in user's posts.\n",
    "\n",
    "        Parameters\n",
    "        ----------\n",
    "        query : str\n",
    "            Value to be searched in posts.\n",
    "\n",
    "        Returns\n",
    "        -------\n",
    "        search_result : lst\n",
    "            List of posts that have any term that matches the query. If none matches, returns None.\n",
    "        '''\n",
    "        search_results = []\n",
    "\n",
    "        for post in self.posts:\n",
    "            for word in post.split():\n",
    "                if query.lower() in word.lower():\n",
    "                    search_results.append(post)\n",
    "            \n",
    "        if search_results != []:\n",
    "            return search_results\n",
    "        return None\n",
    "            \n",
    "class Timeline:\n",
    "    '''\n",
    "    Creates an object that gathers all posts ever posted by one user on Rede Social.\n",
    "    '''\n",
    "    def __init__(self, user):\n",
    "            '''\n",
    "            Shows all posts added by friend's user in his timeline\n",
    "\n",
    "            Parameters\n",
    "            ----------\n",
    "            user : User\n",
    "                User which friend's posts will be printed.\n",
    "\n",
    "            Returns\n",
    "            -------\n",
    "            out : prints user's timeline with every post ever added before by his/her friends.   \n",
    "            '''\n",
    "            for friend in user.friend_list:\n",
    "                print(f'{friend.name} says: {[post for post in friend.posts]}')"
   ]
  },
  {
   "cell_type": "code",
   "execution_count": 212,
   "id": "fc5c44b2-8236-44b7-ba9c-fcd60d28d703",
   "metadata": {},
   "outputs": [],
   "source": [
    "user1 = User(\"João da Silva\", \"jao@jgmail.com\", \"Jão\", \"01/01/2001\", )\n",
    "user2 = User(\"Maria de Jesus\", \"mariazinha@bol.com.br\", \"Mamá\", \"31/12/1980\", )\n",
    "user3 = User(\"Natália D. Mafra\", \"ndalcum@gmail.com\", \"Nat\", \"13/03/1989\", )\n",
    "user4 = User(\"Natália da Silva\", \"natyzinha@gmail.com\", \"Nati\", \"13/03/1989\", )"
   ]
  },
  {
   "cell_type": "code",
   "execution_count": 213,
   "id": "946bd32f-96b0-41d3-bfc2-4c57a9637c34",
   "metadata": {},
   "outputs": [
    {
     "data": {
      "text/plain": [
       "True"
      ]
     },
     "execution_count": 213,
     "metadata": {},
     "output_type": "execute_result"
    }
   ],
   "source": [
    "user1.add_friend(user2)\n",
    "user1.add_friend(user3)\n",
    "user3.add_friend(user4)"
   ]
  },
  {
   "cell_type": "code",
   "execution_count": 214,
   "id": "a099a7a8-e088-4b27-b685-ed7a239505cd",
   "metadata": {},
   "outputs": [
    {
     "data": {
      "text/plain": [
       "True"
      ]
     },
     "execution_count": 214,
     "metadata": {},
     "output_type": "execute_result"
    }
   ],
   "source": [
    "user1.add_interest('Xadrez')\n",
    "user1.add_interest('Jogar bola')\n",
    "user2.add_interest('Chá')\n",
    "user3.add_interest('Drinks')\n",
    "user3.add_interest('Dormir')\n",
    "user3.add_interest('Coca-cola')\n",
    "user4.add_interest('Python')\n"
   ]
  },
  {
   "cell_type": "code",
   "execution_count": 215,
   "id": "0b611a82-6558-4471-90ea-7c791431ed55",
   "metadata": {},
   "outputs": [
    {
     "data": {
      "text/plain": [
       "True"
      ]
     },
     "execution_count": 215,
     "metadata": {},
     "output_type": "execute_result"
    }
   ],
   "source": [
    "user1.add_post('Hey')\n",
    "user1.add_post('How are you?')\n",
    "user2.add_post('Hey!')\n",
    "user3.add_post('Just arrived')\n",
    "user4.add_post('Feels good to be here')\n",
    "user4.add_post('What do you think about overposting?')"
   ]
  },
  {
   "cell_type": "code",
   "execution_count": 216,
   "id": "dc93bc15-0211-4ad5-82c5-94f8280c0930",
   "metadata": {},
   "outputs": [
    {
     "name": "stdout",
     "output_type": "stream",
     "text": [
      "['Maria de Jesus', 'Natália D. Mafra']\n",
      "['Xadrez', 'Jogar bola']\n",
      "['Hey', 'How are you?']\n",
      "['João da Silva']\n",
      "['Chá']\n",
      "['Hey!']\n",
      "['João da Silva', 'Natália da Silva']\n",
      "['Drinks', 'Dormir', 'Coca-cola']\n",
      "['Just arrived']\n",
      "['Natália D. Mafra']\n",
      "['Python']\n",
      "['Feels good to be here', 'What do you think about overposting?']\n"
     ]
    }
   ],
   "source": [
    "for user in [user1, user2, user3, user4]:\n",
    "    print([friend.name for friend in user.friend_list])\n",
    "    print(user.interests)\n",
    "    print(user.posts)"
   ]
  },
  {
   "cell_type": "code",
   "execution_count": 217,
   "id": "e8695b46-c456-42dc-b76b-eba9f36e6e3b",
   "metadata": {},
   "outputs": [
    {
     "name": "stdout",
     "output_type": "stream",
     "text": [
      "João da Silva has 2 friends.\n",
      "João da Silva has 2 posts.\n",
      "Maria de Jesus has 1 friends.\n",
      "Maria de Jesus has 1 posts.\n",
      "Natália D. Mafra has 2 friends.\n",
      "Natália D. Mafra has 1 posts.\n",
      "Natália da Silva has 1 friends.\n",
      "Natália da Silva has 2 posts.\n"
     ]
    }
   ],
   "source": [
    "for user in [user1, user2, user3, user4]:\n",
    "    print(f'{user.name} has {user.count_friends()} friends.')\n",
    "    print(f'{user.name} has {user.count_posts()} posts.')"
   ]
  },
  {
   "cell_type": "code",
   "execution_count": 218,
   "id": "ff2b6da4-1130-4ae2-8c83-7b8a1998737e",
   "metadata": {},
   "outputs": [
    {
     "name": "stdout",
     "output_type": "stream",
     "text": [
      "['Hey']\n",
      "['Hey!']\n",
      "None\n",
      "['Feels good to be here']\n"
     ]
    }
   ],
   "source": [
    "for user in [user1, user2, user3, user4]:\n",
    "    print(user.search_in_posts('HE'))"
   ]
  },
  {
   "cell_type": "code",
   "execution_count": 223,
   "id": "166c70c0-3189-4caf-a99c-0b532544bd21",
   "metadata": {},
   "outputs": [
    {
     "name": "stdout",
     "output_type": "stream",
     "text": [
      "João da Silva says: ['Hey', 'How are you?']\n",
      "Natália da Silva says: ['Feels good to be here', 'What do you think about overposting?']\n"
     ]
    }
   ],
   "source": [
    "timeline = Timeline(user3)"
   ]
  },
  {
   "cell_type": "code",
   "execution_count": null,
   "id": "a5813595-665e-4043-9179-41b06bc774f5",
   "metadata": {},
   "outputs": [],
   "source": []
  }
 ],
 "metadata": {
  "kernelspec": {
   "display_name": "Python 3",
   "language": "python",
   "name": "python3"
  },
  "language_info": {
   "codemirror_mode": {
    "name": "ipython",
    "version": 3
   },
   "file_extension": ".py",
   "mimetype": "text/x-python",
   "name": "python",
   "nbconvert_exporter": "python",
   "pygments_lexer": "ipython3",
   "version": "3.8.8"
  }
 },
 "nbformat": 4,
 "nbformat_minor": 5
}
