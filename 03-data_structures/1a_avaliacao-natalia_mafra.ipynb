{
 "cells": [
  {
   "cell_type": "markdown",
   "id": "4f471cae-ff59-4cc9-b765-d79e240898f6",
   "metadata": {},
   "source": [
    "# Birthday Cake Candles\n",
    "\n",
    "You are in charge of the cake for a child's birthday. You have decided the cake will have one candle for each year of their total age. They will only be able to blow out the tallest of the candles. Count how many candles are tallest."
   ]
  },
  {
   "cell_type": "code",
   "execution_count": 2,
   "id": "65ba0c53-d8ca-4121-88cc-dd4b69d77f61",
   "metadata": {},
   "outputs": [],
   "source": [
    "def birthdayCakeCandles(candles):\n",
    "    tallest_candle = 0\n",
    "    total_tallest_candles = 0\n",
    "    \n",
    "    for candle in candles:\n",
    "        if candle > tallest_candle:\n",
    "            total_tallest_candles = 0\n",
    "            tallest_candle = candle\n",
    "        if candle == tallest_candle:\n",
    "            total_tallest_candles += 1\n",
    "    \n",
    "    return total_tallest_candles"
   ]
  },
  {
   "cell_type": "markdown",
   "id": "ad2f6dc3-d205-4449-a874-742cc0da18a5",
   "metadata": {},
   "source": [
    "# Time Conversion\n",
    "\n",
    "Given a time in 12-hour AM/PM format, convert it to military (24-hour) time.\n",
    "\n",
    "Note: - 12:00:00AM on a 12-hour clock is 00:00:00 on a 24-hour clock.\n",
    "- 12:00:00PM on a 12-hour clock is 12:00:00 on a 24-hour clock. "
   ]
  },
  {
   "cell_type": "code",
   "execution_count": 3,
   "id": "7e2227e6-e4ab-4869-b734-cc41bda7313a",
   "metadata": {},
   "outputs": [],
   "source": [
    "def timeConversion(s):\n",
    "    military_format = s[0:8]\n",
    "    \n",
    "    if 'PM' in s:\n",
    "        if s[0:2] != '12':        \n",
    "            new_hour = str(int(s[0:2]) + 12)\n",
    "            military_format = new_hour + s[2:8]\n",
    "    else:\n",
    "        if s[0:2] == '12': \n",
    "            military_format = '00' + s[2:8]\n",
    "\n",
    "    return military_format"
   ]
  },
  {
   "cell_type": "markdown",
   "id": "47f5c07b-e33c-48f3-b51c-e24e40151634",
   "metadata": {},
   "source": [
    "# Staircase\n",
    "\n",
    "This is a staircase of size n = 4:\n",
    "\n",
    "\\#\n",
    "   \\##\n",
    "  \\###\n",
    " \\####\n",
    "\n",
    "Its base and height are both equal to _n_. It is drawn using # symbols and spaces. _The last line is not preceded by any spaces.\n",
    "\n",
    "Write a program that prints a staircase of size _n_.\n"
   ]
  },
  {
   "cell_type": "code",
   "execution_count": 5,
   "id": "f5cb5f85-d61f-47a8-b7a8-874c1587a221",
   "metadata": {},
   "outputs": [],
   "source": [
    "def staircase(n):\n",
    "    empty_space = ' '\n",
    "    spaces_left = n\n",
    "    hash_spaces = 0\n",
    "    hash = '#'\n",
    "    \n",
    "    for i in range(0, n):\n",
    "            spaces_left -= 1\n",
    "            hash_spaces += 1\n",
    "            print(spaces_left * empty_space + hash_spaces * '#')"
   ]
  },
  {
   "cell_type": "code",
   "execution_count": null,
   "id": "63ee5475-851c-40b6-9513-79f2a21b97f5",
   "metadata": {},
   "outputs": [],
   "source": []
  }
 ],
 "metadata": {
  "kernelspec": {
   "display_name": "Python 3",
   "language": "python",
   "name": "python3"
  },
  "language_info": {
   "codemirror_mode": {
    "name": "ipython",
    "version": 3
   },
   "file_extension": ".py",
   "mimetype": "text/x-python",
   "name": "python",
   "nbconvert_exporter": "python",
   "pygments_lexer": "ipython3",
   "version": "3.8.8"
  }
 },
 "nbformat": 4,
 "nbformat_minor": 5
}
