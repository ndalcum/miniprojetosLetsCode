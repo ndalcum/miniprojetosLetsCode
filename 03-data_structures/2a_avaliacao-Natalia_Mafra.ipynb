{
 "cells": [
  {
   "cell_type": "markdown",
   "id": "706047c3-476c-42f1-b542-c62c867d0815",
   "metadata": {},
   "source": [
    "# Compare two linked lists\n",
    "\n",
    "You’re given the pointer to the head nodes of two linked lists. Compare the data in the nodes of the linked lists to check if they are equal. If all data attributes are equal and the lists are the same length, return 1. Otherwise, return 0. "
   ]
  },
  {
   "cell_type": "code",
   "execution_count": 1,
   "id": "27fc0b7f-a808-4c6b-8163-d30f053701d9",
   "metadata": {},
   "outputs": [],
   "source": [
    "def compare_lists(llist1, llist2):\n",
    "    current_node1 = llist1\n",
    "    current_node2 = llist2\n",
    "    \n",
    "    while current_node1.data == current_node2.data:\n",
    "        current_node1 = current_node1.next\n",
    "        current_node2 = current_node2.next\n",
    "        \n",
    "        if not current_node1 or not current_node2:\n",
    "            if current_node1 == current_node2:\n",
    "                return 1\n",
    "            return 0\n",
    "        \n",
    "    return 0"
   ]
  },
  {
   "cell_type": "markdown",
   "id": "02896650-b90c-4824-9463-6df4ad345c37",
   "metadata": {},
   "source": [
    "# Recursive Digit Sum\n",
    "\n",
    "We define super digit of an integer x using the following rules:\n",
    "\n",
    "Given an integer, we need to find the super digit of the integer.\n",
    "\n",
    "* If x has only 1 digit, then its super digit is x.\n",
    "* Otherwise, the super digit of x is equal to the super digit of the sum of the digits of x.\n",
    "\n",
    "\n",
    "Complete the function superDigit in the editor below. It must return the calculated super digit as an integer.\n",
    "\n",
    "superDigit has the following parameter(s):\n",
    "* string n: a string representation of an integer\n",
    "* int k: the times to concatenate n to make p"
   ]
  },
  {
   "cell_type": "code",
   "execution_count": 2,
   "id": "d1f6ff9d-78a8-4ad4-9cbc-8758b8d0cc5a",
   "metadata": {},
   "outputs": [],
   "source": [
    "def superDigit(n, k):\n",
    "    n = str(n)\n",
    "    \n",
    "    if (int(n) // 10) < 1:\n",
    "        return n\n",
    "    \n",
    "    sum = 0\n",
    "    \n",
    "    for i in n:\n",
    "        sum = sum + int(i)\n",
    "    \n",
    "    sum = sum * k\n",
    "    \n",
    "    return superDigit(sum, 1)"
   ]
  },
  {
   "cell_type": "markdown",
   "id": "a8180766-a97a-491a-85f5-4f5dea8e98f2",
   "metadata": {},
   "source": [
    "# Sherlock and Array\n",
    "\n",
    "Watson gives Sherlock an array of integers. His challenge is to find an element of the array such that the sum of all elements to the left is equal to the sum of all elements to the right. "
   ]
  },
  {
   "cell_type": "code",
   "execution_count": 3,
   "id": "ee869503-91cc-47c7-ae8f-b27c95196fe5",
   "metadata": {},
   "outputs": [],
   "source": [
    "def balancedSums(arr):\n",
    "   \n",
    "    total = sum(arr)\n",
    "    sum_left = 0\n",
    "   \n",
    "    for i in arr:\n",
    "        half_total = (total - i) / 2\n",
    "       \n",
    "        if sum_left == half_total:\n",
    "            return 'YES'\n",
    "        if sum_left > half_total:\n",
    "            return 'NO'\n",
    "       \n",
    "        sum_left = sum_left + i"
   ]
  }
 ],
 "metadata": {
  "kernelspec": {
   "display_name": "Python 3",
   "language": "python",
   "name": "python3"
  },
  "language_info": {
   "codemirror_mode": {
    "name": "ipython",
    "version": 3
   },
   "file_extension": ".py",
   "mimetype": "text/x-python",
   "name": "python",
   "nbconvert_exporter": "python",
   "pygments_lexer": "ipython3",
   "version": "3.8.8"
  }
 },
 "nbformat": 4,
 "nbformat_minor": 5
}
