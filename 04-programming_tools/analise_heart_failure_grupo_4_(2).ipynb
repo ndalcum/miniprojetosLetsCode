{
 "cells": [
  {
   "cell_type": "markdown",
   "id": "9c8d795b",
   "metadata": {
    "cell_id": "ebb23ae0-233f-4f25-b9b9-b093d89c7d30",
    "deepnote_cell_type": "markdown",
    "id": "9c8d795b"
   },
   "source": [
    "# **Análise Exploratória de Doenças Cardiovasculares**\n",
    "\n",
    "**Grupo 04** (Alexandre Oliveira, Philippe Sotero, Letícia Silva e Natália Mafra)\n",
    "\n",
    "## **1. Introdução**\n",
    "As doenças cardiovasculares são a principal causa de morte no mundo: mais pessoas morrem anualmente por essas enfermidades do que por qualquer outra causa. Estima-se que 17,9 milhões de pessoas morreram por doenças cardiovasculares em 2016, representando 31% de todas as mortes em nível global. Destes óbitos, estima-se que 85% ocorrem devido a ataques cardíacos e acidentes vasculares cerebrais (AVCs). Mais de três quartos das mortes por doenças cardiovasculares ocorrem em países de baixa e média renda. Das 17 milhões de mortes prematuras (pessoas com menos de 70 anos) por doenças crônicas não transmissíveis, 82% acontecem em países de baixa e média renda e 37% são causadas por doenças cardiovasculares. Fonte: https://www.paho.org/pt/topicos/doencas-cardiovasculares\n",
    "\n"
   ]
  },
  {
   "cell_type": "markdown",
   "id": "c1b3332a",
   "metadata": {
    "cell_id": "a14ef9dd-53a5-4b4f-8fa1-aaee97c8fe28",
    "deepnote_cell_type": "markdown",
    "id": "c1b3332a",
    "tags": []
   },
   "source": [
    "<img src = \"img/10830.jpeg\">"
   ]
  },
  {
   "cell_type": "markdown",
   "id": "0aa660b0",
   "metadata": {
    "cell_id": "599ad960-c432-48bf-bb76-c6ae233b7bc3",
    "deepnote_cell_type": "markdown",
    "id": "0aa660b0",
    "tags": []
   },
   "source": [
    "## **2. Obtenção dos Dados**"
   ]
  },
  {
   "cell_type": "markdown",
   "id": "2e304ac2",
   "metadata": {
    "cell_id": "614dc0fe-63d2-4570-b161-a1f7aa009c27",
    "deepnote_cell_type": "markdown",
    "id": "2e304ac2",
    "tags": []
   },
   "source": [
    "Este projeto desenvolve uma análise exploratória dos dados fornecidos pelo *UCI Heart Disease dataset*, disponível no link abaixo:\n",
    "https://www.kaggle.com/andrewmvd/heart-failure-clinical-data?select=heart_failure_clinical_records_dataset.csv"
   ]
  },
  {
   "cell_type": "markdown",
   "id": "16507180",
   "metadata": {
    "cell_id": "40bdcd0c-5692-439c-b232-78029b8170aa",
    "deepnote_cell_type": "markdown",
    "id": "16507180",
    "tags": []
   },
   "source": [
    "### **2.1 Importação das Bibliotecas**"
   ]
  },
  {
   "cell_type": "code",
   "execution_count": 1,
   "id": "983566a3",
   "metadata": {
    "cell_id": "726e54c8-45d1-4f87-95fa-23abd488e8ed",
    "deepnote_cell_type": "code",
    "deepnote_to_be_reexecuted": false,
    "execution_millis": 6204,
    "execution_start": 1643589770948,
    "id": "983566a3",
    "source_hash": "90c8767c",
    "tags": []
   },
   "outputs": [],
   "source": [
    "# Bibliotecas a serem utilizadas\n",
    "import pandas as pd\n",
    "import numpy as np\n",
    "import matplotlib.pyplot as plt\n",
    "import seaborn as sns\n",
    "import warnings\n",
    "\n",
    "# Padronização da exibição dos dados com o Pandas\n",
    "pd.options.display.float_format = '{:.2f}'.format"
   ]
  },
  {
   "cell_type": "markdown",
   "id": "75d30888",
   "metadata": {
    "cell_id": "466f918e-bb5c-4fb8-96fc-52ee5dbad380",
    "deepnote_cell_type": "markdown",
    "id": "75d30888",
    "tags": []
   },
   "source": [
    "### **2.2 Importação do Dataset**"
   ]
  },
  {
   "cell_type": "code",
   "execution_count": 2,
   "id": "46ba4138",
   "metadata": {
    "cell_id": "f80f0832-f7a0-447d-bfeb-7fc287a37b8a",
    "deepnote_cell_type": "code",
    "deepnote_to_be_reexecuted": false,
    "execution_millis": 34,
    "execution_start": 1643589777168,
    "id": "46ba4138",
    "source_hash": "c252662f",
    "tags": []
   },
   "outputs": [],
   "source": [
    "# Base de dados disponível na pasta \"data\"\n",
    "df = pd.read_csv('data/heart_failure_clinical_records_dataset.csv')"
   ]
  },
  {
   "cell_type": "markdown",
   "id": "c0e2da77",
   "metadata": {
    "cell_id": "00002-022f45f9-e11b-4751-80cb-1b1925c85d36",
    "deepnote_cell_type": "markdown",
    "id": "c0e2da77"
   },
   "source": [
    "## **3. Visão geral do conjunto de dados**"
   ]
  },
  {
   "cell_type": "code",
   "execution_count": 3,
   "id": "65291c89",
   "metadata": {
    "cell_id": "d169e03f-0a43-4f1c-a14c-b0f07dabed02",
    "colab": {
     "base_uri": "https://localhost:8080/",
     "height": 270
    },
    "deepnote_cell_type": "code",
    "deepnote_to_be_reexecuted": false,
    "execution_millis": 314,
    "execution_start": 1643589777213,
    "id": "65291c89",
    "outputId": "549a4e14-0b7f-482d-acf9-1e5a998be3cc",
    "source_hash": "c5e88435",
    "tags": []
   },
   "outputs": [
    {
     "data": {
      "text/html": [
       "<div>\n",
       "<style scoped>\n",
       "    .dataframe tbody tr th:only-of-type {\n",
       "        vertical-align: middle;\n",
       "    }\n",
       "\n",
       "    .dataframe tbody tr th {\n",
       "        vertical-align: top;\n",
       "    }\n",
       "\n",
       "    .dataframe thead th {\n",
       "        text-align: right;\n",
       "    }\n",
       "</style>\n",
       "<table border=\"1\" class=\"dataframe\">\n",
       "  <thead>\n",
       "    <tr style=\"text-align: right;\">\n",
       "      <th></th>\n",
       "      <th>age</th>\n",
       "      <th>anaemia</th>\n",
       "      <th>creatinine_phosphokinase</th>\n",
       "      <th>diabetes</th>\n",
       "      <th>ejection_fraction</th>\n",
       "      <th>high_blood_pressure</th>\n",
       "      <th>platelets</th>\n",
       "      <th>serum_creatinine</th>\n",
       "      <th>serum_sodium</th>\n",
       "      <th>sex</th>\n",
       "      <th>smoking</th>\n",
       "      <th>time</th>\n",
       "      <th>DEATH_EVENT</th>\n",
       "    </tr>\n",
       "  </thead>\n",
       "  <tbody>\n",
       "    <tr>\n",
       "      <th>0</th>\n",
       "      <td>75.00</td>\n",
       "      <td>0</td>\n",
       "      <td>582</td>\n",
       "      <td>0</td>\n",
       "      <td>20</td>\n",
       "      <td>1</td>\n",
       "      <td>265000.00</td>\n",
       "      <td>1.90</td>\n",
       "      <td>130</td>\n",
       "      <td>1</td>\n",
       "      <td>0</td>\n",
       "      <td>4</td>\n",
       "      <td>1</td>\n",
       "    </tr>\n",
       "    <tr>\n",
       "      <th>1</th>\n",
       "      <td>55.00</td>\n",
       "      <td>0</td>\n",
       "      <td>7861</td>\n",
       "      <td>0</td>\n",
       "      <td>38</td>\n",
       "      <td>0</td>\n",
       "      <td>263358.03</td>\n",
       "      <td>1.10</td>\n",
       "      <td>136</td>\n",
       "      <td>1</td>\n",
       "      <td>0</td>\n",
       "      <td>6</td>\n",
       "      <td>1</td>\n",
       "    </tr>\n",
       "    <tr>\n",
       "      <th>2</th>\n",
       "      <td>65.00</td>\n",
       "      <td>0</td>\n",
       "      <td>146</td>\n",
       "      <td>0</td>\n",
       "      <td>20</td>\n",
       "      <td>0</td>\n",
       "      <td>162000.00</td>\n",
       "      <td>1.30</td>\n",
       "      <td>129</td>\n",
       "      <td>1</td>\n",
       "      <td>1</td>\n",
       "      <td>7</td>\n",
       "      <td>1</td>\n",
       "    </tr>\n",
       "    <tr>\n",
       "      <th>3</th>\n",
       "      <td>50.00</td>\n",
       "      <td>1</td>\n",
       "      <td>111</td>\n",
       "      <td>0</td>\n",
       "      <td>20</td>\n",
       "      <td>0</td>\n",
       "      <td>210000.00</td>\n",
       "      <td>1.90</td>\n",
       "      <td>137</td>\n",
       "      <td>1</td>\n",
       "      <td>0</td>\n",
       "      <td>7</td>\n",
       "      <td>1</td>\n",
       "    </tr>\n",
       "    <tr>\n",
       "      <th>4</th>\n",
       "      <td>65.00</td>\n",
       "      <td>1</td>\n",
       "      <td>160</td>\n",
       "      <td>1</td>\n",
       "      <td>20</td>\n",
       "      <td>0</td>\n",
       "      <td>327000.00</td>\n",
       "      <td>2.70</td>\n",
       "      <td>116</td>\n",
       "      <td>0</td>\n",
       "      <td>0</td>\n",
       "      <td>8</td>\n",
       "      <td>1</td>\n",
       "    </tr>\n",
       "  </tbody>\n",
       "</table>\n",
       "</div>"
      ],
      "text/plain": [
       "    age  anaemia  creatinine_phosphokinase  diabetes  ejection_fraction  \\\n",
       "0 75.00        0                       582         0                 20   \n",
       "1 55.00        0                      7861         0                 38   \n",
       "2 65.00        0                       146         0                 20   \n",
       "3 50.00        1                       111         0                 20   \n",
       "4 65.00        1                       160         1                 20   \n",
       "\n",
       "   high_blood_pressure  platelets  serum_creatinine  serum_sodium  sex  \\\n",
       "0                    1  265000.00              1.90           130    1   \n",
       "1                    0  263358.03              1.10           136    1   \n",
       "2                    0  162000.00              1.30           129    1   \n",
       "3                    0  210000.00              1.90           137    1   \n",
       "4                    0  327000.00              2.70           116    0   \n",
       "\n",
       "   smoking  time  DEATH_EVENT  \n",
       "0        0     4            1  \n",
       "1        0     6            1  \n",
       "2        1     7            1  \n",
       "3        0     7            1  \n",
       "4        0     8            1  "
      ]
     },
     "execution_count": 3,
     "metadata": {},
     "output_type": "execute_result"
    }
   ],
   "source": [
    "# Visão inicial do DataFrame a partir das 5 primeiras linhas\n",
    "\n",
    "df.head()"
   ]
  },
  {
   "cell_type": "markdown",
   "id": "47256c72",
   "metadata": {
    "cell_id": "8d196b40-f51a-426f-81b8-05f835825f59",
    "deepnote_cell_type": "markdown",
    "id": "47256c72",
    "tags": []
   },
   "source": [
    "### **3.1 Dimensões do DataFrame**\n"
   ]
  },
  {
   "cell_type": "code",
   "execution_count": 4,
   "id": "04c74aad",
   "metadata": {
    "cell_id": "00003-b5a3f785-c7e5-43d9-9ed8-8023b49bd82e",
    "colab": {
     "base_uri": "https://localhost:8080/"
    },
    "deepnote_cell_type": "code",
    "deepnote_to_be_reexecuted": false,
    "execution_millis": 35,
    "execution_start": 1643589777543,
    "id": "04c74aad",
    "outputId": "94739698-6f95-4cc3-aa5e-7b928016e0d3",
    "source_hash": "539662d"
   },
   "outputs": [
    {
     "name": "stdout",
     "output_type": "stream",
     "text": [
      "Entradas:  299\n",
      "Variáveis:  13\n"
     ]
    }
   ],
   "source": [
    "print('Entradas: ', df.shape[0])\n",
    "print('Variáveis: ', df.shape[1])"
   ]
  },
  {
   "cell_type": "markdown",
   "id": "657fc0b6",
   "metadata": {
    "cell_id": "c675835c-4692-4a02-b2f5-329126813ffd",
    "deepnote_cell_type": "markdown",
    "id": "657fc0b6",
    "tags": []
   },
   "source": [
    "### **3.2 Análise rápida do tipo de dados**"
   ]
  },
  {
   "cell_type": "code",
   "execution_count": 5,
   "id": "d90637f1",
   "metadata": {
    "cell_id": "00005-b9575030-91ec-4f6a-b641-b872b7790e08",
    "colab": {
     "base_uri": "https://localhost:8080/"
    },
    "deepnote_cell_type": "code",
    "deepnote_to_be_reexecuted": false,
    "execution_millis": 38,
    "execution_start": 1643589777589,
    "id": "d90637f1",
    "outputId": "617d379e-bde5-4ada-9b60-73b9960a8d5e",
    "source_hash": "de1e323c"
   },
   "outputs": [
    {
     "name": "stdout",
     "output_type": "stream",
     "text": [
      "<class 'pandas.core.frame.DataFrame'>\n",
      "RangeIndex: 299 entries, 0 to 298\n",
      "Data columns (total 13 columns):\n",
      " #   Column                    Non-Null Count  Dtype  \n",
      "---  ------                    --------------  -----  \n",
      " 0   age                       299 non-null    float64\n",
      " 1   anaemia                   299 non-null    int64  \n",
      " 2   creatinine_phosphokinase  299 non-null    int64  \n",
      " 3   diabetes                  299 non-null    int64  \n",
      " 4   ejection_fraction         299 non-null    int64  \n",
      " 5   high_blood_pressure       299 non-null    int64  \n",
      " 6   platelets                 299 non-null    float64\n",
      " 7   serum_creatinine          299 non-null    float64\n",
      " 8   serum_sodium              299 non-null    int64  \n",
      " 9   sex                       299 non-null    int64  \n",
      " 10  smoking                   299 non-null    int64  \n",
      " 11  time                      299 non-null    int64  \n",
      " 12  DEATH_EVENT               299 non-null    int64  \n",
      "dtypes: float64(3), int64(10)\n",
      "memory usage: 30.5 KB\n"
     ]
    }
   ],
   "source": [
    "df.info()"
   ]
  },
  {
   "cell_type": "markdown",
   "id": "2f87d21c",
   "metadata": {
    "cell_id": "d6a1e7dd-8ed2-42aa-a298-bdee90f00d05",
    "deepnote_cell_type": "markdown",
    "id": "2f87d21c",
    "tags": []
   },
   "source": [
    "A partir dos dados obtidos acima com o método _.info_, observamos que:\n",
    "\n",
    "    1. Os nomes das colunas estão todos em inglês\n",
    "    2. Todas as células das 299 colunas estão preenchidas\n",
    "    3. Todas as colunas são do tipo inteiro ou float"
   ]
  },
  {
   "cell_type": "markdown",
   "id": "dc347956",
   "metadata": {
    "cell_id": "00006-622b2039-88b6-4804-bf09-79e3e0ca81a7",
    "deepnote_cell_type": "markdown",
    "id": "dc347956"
   },
   "source": [
    "#### **3.2.1. Alterando os nomes das colunas**"
   ]
  },
  {
   "cell_type": "code",
   "execution_count": 6,
   "id": "ae7ce6f6",
   "metadata": {
    "cell_id": "7538430c-7266-4658-976a-63d120e01801",
    "deepnote_cell_type": "code",
    "deepnote_to_be_reexecuted": false,
    "execution_millis": 12,
    "execution_start": 1643589777634,
    "id": "ae7ce6f6",
    "source_hash": "c3429157",
    "tags": []
   },
   "outputs": [],
   "source": [
    "# Para facilitar a manipulação, mudaremos os nomes das colunas para o português\n",
    "# Colocaremos também as iniciais em maiúsculas\n",
    "df.columns =['Idade', 'Anemia', 'Creatinafosfoquinase', 'Diabetes', \n",
    "            'Fracao_ejecao', 'Pressao_alta', 'Plaquetas', 'Creatinina_soro', \n",
    "            'Sodio_soro', 'Sexo', 'Fumante', 'Tempo', 'Morte']\n",
    "           "
   ]
  },
  {
   "cell_type": "code",
   "execution_count": 7,
   "id": "1d06520e",
   "metadata": {
    "cell_id": "00007-df7140ad-5945-4e9b-8a1c-6784bea6b518",
    "colab": {
     "base_uri": "https://localhost:8080/"
    },
    "deepnote_cell_type": "code",
    "deepnote_output_heights": [
     79
    ],
    "deepnote_to_be_reexecuted": false,
    "execution_millis": 19,
    "execution_start": 1643589777657,
    "id": "1d06520e",
    "outputId": "3d6a617b-b0ca-4f72-bfe1-f16026aadc02",
    "source_hash": "89182da5"
   },
   "outputs": [
    {
     "data": {
      "text/plain": [
       "Index(['Idade', 'Anemia', 'Creatinafosfoquinase', 'Diabetes', 'Fracao_ejecao',\n",
       "       'Pressao_alta', 'Plaquetas', 'Creatinina_soro', 'Sodio_soro', 'Sexo',\n",
       "       'Fumante', 'Tempo', 'Morte'],\n",
       "      dtype='object')"
      ]
     },
     "execution_count": 7,
     "metadata": {},
     "output_type": "execute_result"
    }
   ],
   "source": [
    "# Testando a alteração dos nomes das colunas:\n",
    "df.columns"
   ]
  },
  {
   "cell_type": "markdown",
   "id": "b6a62f3d",
   "metadata": {
    "cell_id": "00008-faee887d-e57d-4e18-8f5d-2ae521408cc4",
    "deepnote_cell_type": "markdown",
    "id": "b6a62f3d"
   },
   "source": [
    "#### **3.2.2. Confirmando a ausência de valores nulos**"
   ]
  },
  {
   "cell_type": "markdown",
   "id": "c761883c",
   "metadata": {
    "cell_id": "00013-11d54e53-574e-4686-9edf-54a8cc364a0d",
    "deepnote_cell_type": "markdown",
    "id": "c761883c"
   },
   "source": [
    "Considerando que a base de dados contempla dados de 299 pacientes e que todas as colunas tem 299 células preenchidas, percebemos que **não há nenhum valor faltante, ou seja, nulo**.\n",
    "\n",
    "Essa conclusão pode ser confirmada pela aplicação do método .isnull() na base original, seguido do método .sum():"
   ]
  },
  {
   "cell_type": "code",
   "execution_count": 8,
   "id": "053f73c7",
   "metadata": {
    "cell_id": "00014-9f1c75e3-2985-45c2-86ed-07497836f7fe",
    "colab": {
     "base_uri": "https://localhost:8080/"
    },
    "deepnote_cell_type": "code",
    "deepnote_output_heights": [
     271
    ],
    "deepnote_to_be_reexecuted": false,
    "execution_millis": 27,
    "execution_start": 1643589777684,
    "id": "053f73c7",
    "outputId": "a5e024f0-f87f-4165-a326-b7ae8407553a",
    "source_hash": "f3dd26da"
   },
   "outputs": [
    {
     "data": {
      "text/plain": [
       "Idade                   0\n",
       "Anemia                  0\n",
       "Creatinafosfoquinase    0\n",
       "Diabetes                0\n",
       "Fracao_ejecao           0\n",
       "Pressao_alta            0\n",
       "Plaquetas               0\n",
       "Creatinina_soro         0\n",
       "Sodio_soro              0\n",
       "Sexo                    0\n",
       "Fumante                 0\n",
       "Tempo                   0\n",
       "Morte                   0\n",
       "dtype: int64"
      ]
     },
     "execution_count": 8,
     "metadata": {},
     "output_type": "execute_result"
    }
   ],
   "source": [
    "df.isnull().sum()"
   ]
  },
  {
   "cell_type": "markdown",
   "id": "224a15dd",
   "metadata": {
    "cell_id": "00017-ab966360-1519-440b-b62c-c90d876dc1f8",
    "deepnote_cell_type": "markdown",
    "id": "224a15dd"
   },
   "source": [
    "**Confirmada, portanto, a conclusão de que a base de dados não possui valores faltantes ou nulos.**"
   ]
  },
  {
   "cell_type": "markdown",
   "id": "904d858e",
   "metadata": {
    "cell_id": "00018-6ad4dcf3-d814-4d94-a07d-9727ce2cdf45",
    "deepnote_cell_type": "markdown",
    "id": "904d858e"
   },
   "source": [
    "#### **3.2.3. Tipos de variáveis**"
   ]
  },
  {
   "cell_type": "markdown",
   "id": "40198861",
   "metadata": {
    "cell_id": "83f3727b-a27e-4902-9d9b-9a2db5a9effa",
    "deepnote_cell_type": "markdown",
    "id": "40198861",
    "tags": []
   },
   "source": [
    "Como vimos, são 13 as variáveis encontradas neste DataSet:\n",
    "\n",
    "*  **Idade (anos)**: idade do paciente.\n",
    "*  **Anemia (Sim/Não)**: paciente com anemia = 1, paciente sem anemia = 0.\n",
    "*  **Creatinafosfoquinase (mcg/L)**: proteína encontrada no sangue/músculo cardíaco sendo utilizada como marcador do infarto. VR: 32 a 294 U/L.\n",
    "*  **Diabetes (Sim/Não)**: pacientes com diabetes = 1, sem diabetes = 0.\n",
    "*  **Fracao_ejecao (%)**: capacidade de expulsar sangue do coração. VR: (%) 55/70(normal) 40/54 levemente abaixo, 35/39 moderadamente abaixo, menos de 35, severamente abaixo do normal.\n",
    "*  **Pressao_alta (Sim/Não)**: danifica as artérias e levam a doenças cardiovasculares. Pacientes com pressão alta = 1, sem pressão alta = 0.\n",
    "*  **Plaquetas (kiloplatelets/mL)**: responsáveis pela coagulação sanguínea: 150k a 450k - normal, >450k: thrombocytosis (dores de cabeça, fraqueza, tonturas,etc <150k: thrombocytopenia (hemorragia)\n",
    "*  **Creatinina_soro (mg/dL)**: substância presente no sangue e eliminada pelos rins, quando não bem eliminada pode provocar problemas cardiovasculares. VR: 0,5 a 1,2 mg/dL, alta:cansaço excessivo, falta de ar. baixo: indica doenças hepáticas. Veja que no nosso dataset os valores estão muito alto, o que pode afetar os rins e de tabela o coração.\n",
    "*  **Sódio (mEq/L)**: nível de sódio no sangue (135 a 145) mEq/L - <135 (mais velhos, letargia, personalidade alterada, confusão), > 145: desordem muscular, coma e morte.\n",
    "*  **Sexo (Sim/Não)**: homem = 1 e mulher = 0\n",
    "*  **Fumante (Sim/Não)**: 1 e não fumante = 0\n",
    "*  **Tempo (dias)**: tempo de acompanhamento médico.\n",
    "*  **Morte(Sim/Não)**: morto = 1 e vivo = 0."
   ]
  },
  {
   "cell_type": "markdown",
   "id": "16aafd25",
   "metadata": {
    "cell_id": "d4f0d82c-d178-4c88-b55f-57fd476fc092",
    "deepnote_cell_type": "markdown",
    "id": "16aafd25",
    "tags": []
   },
   "source": [
    "Nota-se pela análise das colunas que não os tipos de dados desta base não são categóricos, apenas numéricos (_int_ e _float_).\n",
    "\n",
    "Para garantir que não sejam feitas análises numéricas em colunas que contém dados booleanos, transformaremos as variáveis conceitualmentecategóricas de _int_ para _bool_:"
   ]
  },
  {
   "cell_type": "code",
   "execution_count": 9,
   "id": "841bfa4c",
   "metadata": {
    "cell_id": "29da5e26-1576-435a-a463-cc034710ea50",
    "colab": {
     "base_uri": "https://localhost:8080/",
     "height": 424
    },
    "deepnote_cell_type": "code",
    "deepnote_to_be_reexecuted": false,
    "execution_millis": 511,
    "execution_start": 1643589777718,
    "id": "841bfa4c",
    "outputId": "2f60c354-1aa4-4016-ce90-dbf940ca20b6",
    "source_hash": "6f16bcef",
    "tags": []
   },
   "outputs": [
    {
     "data": {
      "text/html": [
       "<div>\n",
       "<style scoped>\n",
       "    .dataframe tbody tr th:only-of-type {\n",
       "        vertical-align: middle;\n",
       "    }\n",
       "\n",
       "    .dataframe tbody tr th {\n",
       "        vertical-align: top;\n",
       "    }\n",
       "\n",
       "    .dataframe thead th {\n",
       "        text-align: right;\n",
       "    }\n",
       "</style>\n",
       "<table border=\"1\" class=\"dataframe\">\n",
       "  <thead>\n",
       "    <tr style=\"text-align: right;\">\n",
       "      <th></th>\n",
       "      <th>Idade</th>\n",
       "      <th>Anemia</th>\n",
       "      <th>Creatinafosfoquinase</th>\n",
       "      <th>Diabetes</th>\n",
       "      <th>Fracao_ejecao</th>\n",
       "      <th>Pressao_alta</th>\n",
       "      <th>Plaquetas</th>\n",
       "      <th>Creatinina_soro</th>\n",
       "      <th>Sodio_soro</th>\n",
       "      <th>Sexo</th>\n",
       "      <th>Fumante</th>\n",
       "      <th>Tempo</th>\n",
       "      <th>Morte</th>\n",
       "    </tr>\n",
       "  </thead>\n",
       "  <tbody>\n",
       "    <tr>\n",
       "      <th>0</th>\n",
       "      <td>75.00</td>\n",
       "      <td>0</td>\n",
       "      <td>582</td>\n",
       "      <td>0</td>\n",
       "      <td>20</td>\n",
       "      <td>1</td>\n",
       "      <td>265000.00</td>\n",
       "      <td>1.90</td>\n",
       "      <td>130</td>\n",
       "      <td>1</td>\n",
       "      <td>0</td>\n",
       "      <td>4</td>\n",
       "      <td>1</td>\n",
       "    </tr>\n",
       "    <tr>\n",
       "      <th>1</th>\n",
       "      <td>55.00</td>\n",
       "      <td>0</td>\n",
       "      <td>7861</td>\n",
       "      <td>0</td>\n",
       "      <td>38</td>\n",
       "      <td>0</td>\n",
       "      <td>263358.03</td>\n",
       "      <td>1.10</td>\n",
       "      <td>136</td>\n",
       "      <td>1</td>\n",
       "      <td>0</td>\n",
       "      <td>6</td>\n",
       "      <td>1</td>\n",
       "    </tr>\n",
       "    <tr>\n",
       "      <th>2</th>\n",
       "      <td>65.00</td>\n",
       "      <td>0</td>\n",
       "      <td>146</td>\n",
       "      <td>0</td>\n",
       "      <td>20</td>\n",
       "      <td>0</td>\n",
       "      <td>162000.00</td>\n",
       "      <td>1.30</td>\n",
       "      <td>129</td>\n",
       "      <td>1</td>\n",
       "      <td>1</td>\n",
       "      <td>7</td>\n",
       "      <td>1</td>\n",
       "    </tr>\n",
       "    <tr>\n",
       "      <th>3</th>\n",
       "      <td>50.00</td>\n",
       "      <td>1</td>\n",
       "      <td>111</td>\n",
       "      <td>0</td>\n",
       "      <td>20</td>\n",
       "      <td>0</td>\n",
       "      <td>210000.00</td>\n",
       "      <td>1.90</td>\n",
       "      <td>137</td>\n",
       "      <td>1</td>\n",
       "      <td>0</td>\n",
       "      <td>7</td>\n",
       "      <td>1</td>\n",
       "    </tr>\n",
       "    <tr>\n",
       "      <th>4</th>\n",
       "      <td>65.00</td>\n",
       "      <td>1</td>\n",
       "      <td>160</td>\n",
       "      <td>1</td>\n",
       "      <td>20</td>\n",
       "      <td>0</td>\n",
       "      <td>327000.00</td>\n",
       "      <td>2.70</td>\n",
       "      <td>116</td>\n",
       "      <td>0</td>\n",
       "      <td>0</td>\n",
       "      <td>8</td>\n",
       "      <td>1</td>\n",
       "    </tr>\n",
       "    <tr>\n",
       "      <th>...</th>\n",
       "      <td>...</td>\n",
       "      <td>...</td>\n",
       "      <td>...</td>\n",
       "      <td>...</td>\n",
       "      <td>...</td>\n",
       "      <td>...</td>\n",
       "      <td>...</td>\n",
       "      <td>...</td>\n",
       "      <td>...</td>\n",
       "      <td>...</td>\n",
       "      <td>...</td>\n",
       "      <td>...</td>\n",
       "      <td>...</td>\n",
       "    </tr>\n",
       "    <tr>\n",
       "      <th>294</th>\n",
       "      <td>62.00</td>\n",
       "      <td>0</td>\n",
       "      <td>61</td>\n",
       "      <td>1</td>\n",
       "      <td>38</td>\n",
       "      <td>1</td>\n",
       "      <td>155000.00</td>\n",
       "      <td>1.10</td>\n",
       "      <td>143</td>\n",
       "      <td>1</td>\n",
       "      <td>1</td>\n",
       "      <td>270</td>\n",
       "      <td>0</td>\n",
       "    </tr>\n",
       "    <tr>\n",
       "      <th>295</th>\n",
       "      <td>55.00</td>\n",
       "      <td>0</td>\n",
       "      <td>1820</td>\n",
       "      <td>0</td>\n",
       "      <td>38</td>\n",
       "      <td>0</td>\n",
       "      <td>270000.00</td>\n",
       "      <td>1.20</td>\n",
       "      <td>139</td>\n",
       "      <td>0</td>\n",
       "      <td>0</td>\n",
       "      <td>271</td>\n",
       "      <td>0</td>\n",
       "    </tr>\n",
       "    <tr>\n",
       "      <th>296</th>\n",
       "      <td>45.00</td>\n",
       "      <td>0</td>\n",
       "      <td>2060</td>\n",
       "      <td>1</td>\n",
       "      <td>60</td>\n",
       "      <td>0</td>\n",
       "      <td>742000.00</td>\n",
       "      <td>0.80</td>\n",
       "      <td>138</td>\n",
       "      <td>0</td>\n",
       "      <td>0</td>\n",
       "      <td>278</td>\n",
       "      <td>0</td>\n",
       "    </tr>\n",
       "    <tr>\n",
       "      <th>297</th>\n",
       "      <td>45.00</td>\n",
       "      <td>0</td>\n",
       "      <td>2413</td>\n",
       "      <td>0</td>\n",
       "      <td>38</td>\n",
       "      <td>0</td>\n",
       "      <td>140000.00</td>\n",
       "      <td>1.40</td>\n",
       "      <td>140</td>\n",
       "      <td>1</td>\n",
       "      <td>1</td>\n",
       "      <td>280</td>\n",
       "      <td>0</td>\n",
       "    </tr>\n",
       "    <tr>\n",
       "      <th>298</th>\n",
       "      <td>50.00</td>\n",
       "      <td>0</td>\n",
       "      <td>196</td>\n",
       "      <td>0</td>\n",
       "      <td>45</td>\n",
       "      <td>0</td>\n",
       "      <td>395000.00</td>\n",
       "      <td>1.60</td>\n",
       "      <td>136</td>\n",
       "      <td>1</td>\n",
       "      <td>1</td>\n",
       "      <td>285</td>\n",
       "      <td>0</td>\n",
       "    </tr>\n",
       "  </tbody>\n",
       "</table>\n",
       "<p>299 rows × 13 columns</p>\n",
       "</div>"
      ],
      "text/plain": [
       "     Idade  Anemia  Creatinafosfoquinase  Diabetes  Fracao_ejecao  \\\n",
       "0    75.00       0                   582         0             20   \n",
       "1    55.00       0                  7861         0             38   \n",
       "2    65.00       0                   146         0             20   \n",
       "3    50.00       1                   111         0             20   \n",
       "4    65.00       1                   160         1             20   \n",
       "..     ...     ...                   ...       ...            ...   \n",
       "294  62.00       0                    61         1             38   \n",
       "295  55.00       0                  1820         0             38   \n",
       "296  45.00       0                  2060         1             60   \n",
       "297  45.00       0                  2413         0             38   \n",
       "298  50.00       0                   196         0             45   \n",
       "\n",
       "     Pressao_alta  Plaquetas  Creatinina_soro  Sodio_soro  Sexo  Fumante  \\\n",
       "0               1  265000.00             1.90         130     1        0   \n",
       "1               0  263358.03             1.10         136     1        0   \n",
       "2               0  162000.00             1.30         129     1        1   \n",
       "3               0  210000.00             1.90         137     1        0   \n",
       "4               0  327000.00             2.70         116     0        0   \n",
       "..            ...        ...              ...         ...   ...      ...   \n",
       "294             1  155000.00             1.10         143     1        1   \n",
       "295             0  270000.00             1.20         139     0        0   \n",
       "296             0  742000.00             0.80         138     0        0   \n",
       "297             0  140000.00             1.40         140     1        1   \n",
       "298             0  395000.00             1.60         136     1        1   \n",
       "\n",
       "     Tempo  Morte  \n",
       "0        4      1  \n",
       "1        6      1  \n",
       "2        7      1  \n",
       "3        7      1  \n",
       "4        8      1  \n",
       "..     ...    ...  \n",
       "294    270      0  \n",
       "295    271      0  \n",
       "296    278      0  \n",
       "297    280      0  \n",
       "298    285      0  \n",
       "\n",
       "[299 rows x 13 columns]"
      ]
     },
     "metadata": {},
     "output_type": "display_data"
    }
   ],
   "source": [
    "# Antes:\n",
    "display(df)"
   ]
  },
  {
   "cell_type": "code",
   "execution_count": 10,
   "id": "d010b134",
   "metadata": {
    "cell_id": "1960707e-aec3-4e34-a03f-341b3b87d9b8",
    "colab": {
     "base_uri": "https://localhost:8080/",
     "height": 424
    },
    "deepnote_cell_type": "code",
    "deepnote_output_heights": [
     232
    ],
    "deepnote_to_be_reexecuted": false,
    "execution_millis": 280,
    "execution_start": 1643589778041,
    "id": "d010b134",
    "outputId": "d76d2a97-2f5d-4bc8-e334-706ee8ad287b",
    "source_hash": "f6c5f682",
    "tags": []
   },
   "outputs": [
    {
     "data": {
      "text/html": [
       "<div>\n",
       "<style scoped>\n",
       "    .dataframe tbody tr th:only-of-type {\n",
       "        vertical-align: middle;\n",
       "    }\n",
       "\n",
       "    .dataframe tbody tr th {\n",
       "        vertical-align: top;\n",
       "    }\n",
       "\n",
       "    .dataframe thead th {\n",
       "        text-align: right;\n",
       "    }\n",
       "</style>\n",
       "<table border=\"1\" class=\"dataframe\">\n",
       "  <thead>\n",
       "    <tr style=\"text-align: right;\">\n",
       "      <th></th>\n",
       "      <th>Idade</th>\n",
       "      <th>Anemia</th>\n",
       "      <th>Creatinafosfoquinase</th>\n",
       "      <th>Diabetes</th>\n",
       "      <th>Fracao_ejecao</th>\n",
       "      <th>Pressao_alta</th>\n",
       "      <th>Plaquetas</th>\n",
       "      <th>Creatinina_soro</th>\n",
       "      <th>Sodio_soro</th>\n",
       "      <th>Sexo</th>\n",
       "      <th>Fumante</th>\n",
       "      <th>Tempo</th>\n",
       "      <th>Morte</th>\n",
       "    </tr>\n",
       "  </thead>\n",
       "  <tbody>\n",
       "    <tr>\n",
       "      <th>0</th>\n",
       "      <td>75.00</td>\n",
       "      <td>False</td>\n",
       "      <td>582</td>\n",
       "      <td>False</td>\n",
       "      <td>20</td>\n",
       "      <td>True</td>\n",
       "      <td>265000.00</td>\n",
       "      <td>1.90</td>\n",
       "      <td>130</td>\n",
       "      <td>True</td>\n",
       "      <td>False</td>\n",
       "      <td>4</td>\n",
       "      <td>True</td>\n",
       "    </tr>\n",
       "    <tr>\n",
       "      <th>1</th>\n",
       "      <td>55.00</td>\n",
       "      <td>False</td>\n",
       "      <td>7861</td>\n",
       "      <td>False</td>\n",
       "      <td>38</td>\n",
       "      <td>False</td>\n",
       "      <td>263358.03</td>\n",
       "      <td>1.10</td>\n",
       "      <td>136</td>\n",
       "      <td>True</td>\n",
       "      <td>False</td>\n",
       "      <td>6</td>\n",
       "      <td>True</td>\n",
       "    </tr>\n",
       "    <tr>\n",
       "      <th>2</th>\n",
       "      <td>65.00</td>\n",
       "      <td>False</td>\n",
       "      <td>146</td>\n",
       "      <td>False</td>\n",
       "      <td>20</td>\n",
       "      <td>False</td>\n",
       "      <td>162000.00</td>\n",
       "      <td>1.30</td>\n",
       "      <td>129</td>\n",
       "      <td>True</td>\n",
       "      <td>True</td>\n",
       "      <td>7</td>\n",
       "      <td>True</td>\n",
       "    </tr>\n",
       "    <tr>\n",
       "      <th>3</th>\n",
       "      <td>50.00</td>\n",
       "      <td>True</td>\n",
       "      <td>111</td>\n",
       "      <td>False</td>\n",
       "      <td>20</td>\n",
       "      <td>False</td>\n",
       "      <td>210000.00</td>\n",
       "      <td>1.90</td>\n",
       "      <td>137</td>\n",
       "      <td>True</td>\n",
       "      <td>False</td>\n",
       "      <td>7</td>\n",
       "      <td>True</td>\n",
       "    </tr>\n",
       "    <tr>\n",
       "      <th>4</th>\n",
       "      <td>65.00</td>\n",
       "      <td>True</td>\n",
       "      <td>160</td>\n",
       "      <td>True</td>\n",
       "      <td>20</td>\n",
       "      <td>False</td>\n",
       "      <td>327000.00</td>\n",
       "      <td>2.70</td>\n",
       "      <td>116</td>\n",
       "      <td>False</td>\n",
       "      <td>False</td>\n",
       "      <td>8</td>\n",
       "      <td>True</td>\n",
       "    </tr>\n",
       "    <tr>\n",
       "      <th>...</th>\n",
       "      <td>...</td>\n",
       "      <td>...</td>\n",
       "      <td>...</td>\n",
       "      <td>...</td>\n",
       "      <td>...</td>\n",
       "      <td>...</td>\n",
       "      <td>...</td>\n",
       "      <td>...</td>\n",
       "      <td>...</td>\n",
       "      <td>...</td>\n",
       "      <td>...</td>\n",
       "      <td>...</td>\n",
       "      <td>...</td>\n",
       "    </tr>\n",
       "    <tr>\n",
       "      <th>294</th>\n",
       "      <td>62.00</td>\n",
       "      <td>False</td>\n",
       "      <td>61</td>\n",
       "      <td>True</td>\n",
       "      <td>38</td>\n",
       "      <td>True</td>\n",
       "      <td>155000.00</td>\n",
       "      <td>1.10</td>\n",
       "      <td>143</td>\n",
       "      <td>True</td>\n",
       "      <td>True</td>\n",
       "      <td>270</td>\n",
       "      <td>False</td>\n",
       "    </tr>\n",
       "    <tr>\n",
       "      <th>295</th>\n",
       "      <td>55.00</td>\n",
       "      <td>False</td>\n",
       "      <td>1820</td>\n",
       "      <td>False</td>\n",
       "      <td>38</td>\n",
       "      <td>False</td>\n",
       "      <td>270000.00</td>\n",
       "      <td>1.20</td>\n",
       "      <td>139</td>\n",
       "      <td>False</td>\n",
       "      <td>False</td>\n",
       "      <td>271</td>\n",
       "      <td>False</td>\n",
       "    </tr>\n",
       "    <tr>\n",
       "      <th>296</th>\n",
       "      <td>45.00</td>\n",
       "      <td>False</td>\n",
       "      <td>2060</td>\n",
       "      <td>True</td>\n",
       "      <td>60</td>\n",
       "      <td>False</td>\n",
       "      <td>742000.00</td>\n",
       "      <td>0.80</td>\n",
       "      <td>138</td>\n",
       "      <td>False</td>\n",
       "      <td>False</td>\n",
       "      <td>278</td>\n",
       "      <td>False</td>\n",
       "    </tr>\n",
       "    <tr>\n",
       "      <th>297</th>\n",
       "      <td>45.00</td>\n",
       "      <td>False</td>\n",
       "      <td>2413</td>\n",
       "      <td>False</td>\n",
       "      <td>38</td>\n",
       "      <td>False</td>\n",
       "      <td>140000.00</td>\n",
       "      <td>1.40</td>\n",
       "      <td>140</td>\n",
       "      <td>True</td>\n",
       "      <td>True</td>\n",
       "      <td>280</td>\n",
       "      <td>False</td>\n",
       "    </tr>\n",
       "    <tr>\n",
       "      <th>298</th>\n",
       "      <td>50.00</td>\n",
       "      <td>False</td>\n",
       "      <td>196</td>\n",
       "      <td>False</td>\n",
       "      <td>45</td>\n",
       "      <td>False</td>\n",
       "      <td>395000.00</td>\n",
       "      <td>1.60</td>\n",
       "      <td>136</td>\n",
       "      <td>True</td>\n",
       "      <td>True</td>\n",
       "      <td>285</td>\n",
       "      <td>False</td>\n",
       "    </tr>\n",
       "  </tbody>\n",
       "</table>\n",
       "<p>299 rows × 13 columns</p>\n",
       "</div>"
      ],
      "text/plain": [
       "     Idade  Anemia  Creatinafosfoquinase  Diabetes  Fracao_ejecao  \\\n",
       "0    75.00   False                   582     False             20   \n",
       "1    55.00   False                  7861     False             38   \n",
       "2    65.00   False                   146     False             20   \n",
       "3    50.00    True                   111     False             20   \n",
       "4    65.00    True                   160      True             20   \n",
       "..     ...     ...                   ...       ...            ...   \n",
       "294  62.00   False                    61      True             38   \n",
       "295  55.00   False                  1820     False             38   \n",
       "296  45.00   False                  2060      True             60   \n",
       "297  45.00   False                  2413     False             38   \n",
       "298  50.00   False                   196     False             45   \n",
       "\n",
       "     Pressao_alta  Plaquetas  Creatinina_soro  Sodio_soro   Sexo  Fumante  \\\n",
       "0            True  265000.00             1.90         130   True    False   \n",
       "1           False  263358.03             1.10         136   True    False   \n",
       "2           False  162000.00             1.30         129   True     True   \n",
       "3           False  210000.00             1.90         137   True    False   \n",
       "4           False  327000.00             2.70         116  False    False   \n",
       "..            ...        ...              ...         ...    ...      ...   \n",
       "294          True  155000.00             1.10         143   True     True   \n",
       "295         False  270000.00             1.20         139  False    False   \n",
       "296         False  742000.00             0.80         138  False    False   \n",
       "297         False  140000.00             1.40         140   True     True   \n",
       "298         False  395000.00             1.60         136   True     True   \n",
       "\n",
       "     Tempo  Morte  \n",
       "0        4   True  \n",
       "1        6   True  \n",
       "2        7   True  \n",
       "3        7   True  \n",
       "4        8   True  \n",
       "..     ...    ...  \n",
       "294    270  False  \n",
       "295    271  False  \n",
       "296    278  False  \n",
       "297    280  False  \n",
       "298    285  False  \n",
       "\n",
       "[299 rows x 13 columns]"
      ]
     },
     "metadata": {},
     "output_type": "display_data"
    }
   ],
   "source": [
    "# Trocando o tipo das variáveis int para bool:\n",
    "\n",
    "colunas_para_troca = [['Anemia'], ['Diabetes'], ['Pressao_alta'], ['Sexo'], ['Fumante'], ['Morte']]\n",
    "for coluna in colunas_para_troca:\n",
    "    df[coluna] = df[coluna].astype(bool)\n",
    "\n",
    "# Depois:\n",
    "display(df)"
   ]
  },
  {
   "cell_type": "markdown",
   "id": "0d98a0cd",
   "metadata": {
    "cell_id": "a190fdda-ff1f-4ff9-a0f3-aab884a1faf8",
    "deepnote_cell_type": "markdown",
    "id": "0d98a0cd",
    "tags": []
   },
   "source": [
    "Agora sim podemos usar o método .describe() para obter dados estatísticos gerais das variáveis quantitativas (numéricas):"
   ]
  },
  {
   "cell_type": "code",
   "execution_count": 11,
   "id": "3ab580e5",
   "metadata": {
    "cell_id": "00025-4ac1cf8e-3c76-4dba-bef6-e05f86f3c218",
    "colab": {
     "base_uri": "https://localhost:8080/",
     "height": 300
    },
    "deepnote_cell_type": "code",
    "deepnote_output_heights": [
     611
    ],
    "deepnote_to_be_reexecuted": false,
    "execution_millis": 282,
    "execution_start": 1643589778333,
    "id": "3ab580e5",
    "outputId": "ed34aba3-48d5-4b19-8f87-da8f10cf02e3",
    "source_hash": "f88152d9"
   },
   "outputs": [
    {
     "data": {
      "text/html": [
       "<div>\n",
       "<style scoped>\n",
       "    .dataframe tbody tr th:only-of-type {\n",
       "        vertical-align: middle;\n",
       "    }\n",
       "\n",
       "    .dataframe tbody tr th {\n",
       "        vertical-align: top;\n",
       "    }\n",
       "\n",
       "    .dataframe thead th {\n",
       "        text-align: right;\n",
       "    }\n",
       "</style>\n",
       "<table border=\"1\" class=\"dataframe\">\n",
       "  <thead>\n",
       "    <tr style=\"text-align: right;\">\n",
       "      <th></th>\n",
       "      <th>Idade</th>\n",
       "      <th>Creatinafosfoquinase</th>\n",
       "      <th>Fracao_ejecao</th>\n",
       "      <th>Plaquetas</th>\n",
       "      <th>Creatinina_soro</th>\n",
       "      <th>Sodio_soro</th>\n",
       "      <th>Tempo</th>\n",
       "    </tr>\n",
       "  </thead>\n",
       "  <tbody>\n",
       "    <tr>\n",
       "      <th>count</th>\n",
       "      <td>299.00</td>\n",
       "      <td>299.00</td>\n",
       "      <td>299.00</td>\n",
       "      <td>299.00</td>\n",
       "      <td>299.00</td>\n",
       "      <td>299.00</td>\n",
       "      <td>299.00</td>\n",
       "    </tr>\n",
       "    <tr>\n",
       "      <th>mean</th>\n",
       "      <td>60.83</td>\n",
       "      <td>581.84</td>\n",
       "      <td>38.08</td>\n",
       "      <td>263358.03</td>\n",
       "      <td>1.39</td>\n",
       "      <td>136.63</td>\n",
       "      <td>130.26</td>\n",
       "    </tr>\n",
       "    <tr>\n",
       "      <th>std</th>\n",
       "      <td>11.89</td>\n",
       "      <td>970.29</td>\n",
       "      <td>11.83</td>\n",
       "      <td>97804.24</td>\n",
       "      <td>1.03</td>\n",
       "      <td>4.41</td>\n",
       "      <td>77.61</td>\n",
       "    </tr>\n",
       "    <tr>\n",
       "      <th>min</th>\n",
       "      <td>40.00</td>\n",
       "      <td>23.00</td>\n",
       "      <td>14.00</td>\n",
       "      <td>25100.00</td>\n",
       "      <td>0.50</td>\n",
       "      <td>113.00</td>\n",
       "      <td>4.00</td>\n",
       "    </tr>\n",
       "    <tr>\n",
       "      <th>25%</th>\n",
       "      <td>51.00</td>\n",
       "      <td>116.50</td>\n",
       "      <td>30.00</td>\n",
       "      <td>212500.00</td>\n",
       "      <td>0.90</td>\n",
       "      <td>134.00</td>\n",
       "      <td>73.00</td>\n",
       "    </tr>\n",
       "    <tr>\n",
       "      <th>50%</th>\n",
       "      <td>60.00</td>\n",
       "      <td>250.00</td>\n",
       "      <td>38.00</td>\n",
       "      <td>262000.00</td>\n",
       "      <td>1.10</td>\n",
       "      <td>137.00</td>\n",
       "      <td>115.00</td>\n",
       "    </tr>\n",
       "    <tr>\n",
       "      <th>75%</th>\n",
       "      <td>70.00</td>\n",
       "      <td>582.00</td>\n",
       "      <td>45.00</td>\n",
       "      <td>303500.00</td>\n",
       "      <td>1.40</td>\n",
       "      <td>140.00</td>\n",
       "      <td>203.00</td>\n",
       "    </tr>\n",
       "    <tr>\n",
       "      <th>max</th>\n",
       "      <td>95.00</td>\n",
       "      <td>7861.00</td>\n",
       "      <td>80.00</td>\n",
       "      <td>850000.00</td>\n",
       "      <td>9.40</td>\n",
       "      <td>148.00</td>\n",
       "      <td>285.00</td>\n",
       "    </tr>\n",
       "  </tbody>\n",
       "</table>\n",
       "</div>"
      ],
      "text/plain": [
       "       Idade  Creatinafosfoquinase  Fracao_ejecao  Plaquetas  Creatinina_soro  \\\n",
       "count 299.00                299.00         299.00     299.00           299.00   \n",
       "mean   60.83                581.84          38.08  263358.03             1.39   \n",
       "std    11.89                970.29          11.83   97804.24             1.03   \n",
       "min    40.00                 23.00          14.00   25100.00             0.50   \n",
       "25%    51.00                116.50          30.00  212500.00             0.90   \n",
       "50%    60.00                250.00          38.00  262000.00             1.10   \n",
       "75%    70.00                582.00          45.00  303500.00             1.40   \n",
       "max    95.00               7861.00          80.00  850000.00             9.40   \n",
       "\n",
       "       Sodio_soro  Tempo  \n",
       "count      299.00 299.00  \n",
       "mean       136.63 130.26  \n",
       "std          4.41  77.61  \n",
       "min        113.00   4.00  \n",
       "25%        134.00  73.00  \n",
       "50%        137.00 115.00  \n",
       "75%        140.00 203.00  \n",
       "max        148.00 285.00  "
      ]
     },
     "execution_count": 11,
     "metadata": {},
     "output_type": "execute_result"
    }
   ],
   "source": [
    "df.describe()"
   ]
  },
  {
   "cell_type": "markdown",
   "id": "a645d202",
   "metadata": {
    "cell_id": "c690dba3-e745-4ef3-b2a0-91e24413d2be",
    "deepnote_cell_type": "markdown",
    "id": "a645d202",
    "tags": []
   },
   "source": [
    "### **4. Limpeza de dados**"
   ]
  },
  {
   "cell_type": "markdown",
   "id": "ec323a15",
   "metadata": {
    "id": "ec323a15"
   },
   "source": [
    "Embora já tenhamos inicialmente identificado que não há valores nulos ou faltantes, é preciso descobrir se existem valores destoantes (outliers) para que sejam tratados ou eliminados."
   ]
  },
  {
   "cell_type": "markdown",
   "id": "7558cb9e",
   "metadata": {
    "cell_id": "136bdf34-0865-48a8-ad21-b0e6535ddbb8",
    "deepnote_cell_type": "markdown",
    "id": "7558cb9e",
    "tags": []
   },
   "source": [
    "### **4.1 Outliers**"
   ]
  },
  {
   "cell_type": "markdown",
   "id": "3cf14520",
   "metadata": {
    "cell_id": "a05ffdf3-20be-494d-9e91-24373ac61e77",
    "deepnote_cell_type": "markdown",
    "id": "3cf14520",
    "tags": []
   },
   "source": [
    "Utilizando _boxplot_ para analisar as propriedades de um conjunto de valores numéricos como mínimo, primeiro quartil, mediana, terceiro quartil e máximo das colunas do DataFrame, localizamos os seguintes dados e Outliers:"
   ]
  },
  {
   "cell_type": "markdown",
   "id": "6976b817",
   "metadata": {
    "cell_id": "62c1ff09-580f-4001-9dcc-a0d0229d7111",
    "deepnote_cell_type": "markdown",
    "id": "6976b817",
    "tags": []
   },
   "source": [
    "**Creatinafosfoquinase**"
   ]
  },
  {
   "cell_type": "code",
   "execution_count": 12,
   "id": "27ff27a4",
   "metadata": {
    "cell_id": "efc2acdd-4ebd-48b0-8b4a-baf68f459c55",
    "colab": {
     "base_uri": "https://localhost:8080/"
    },
    "deepnote_cell_type": "code",
    "deepnote_output_heights": [
     null,
     213
    ],
    "deepnote_to_be_reexecuted": false,
    "execution_millis": 49,
    "execution_start": 1643589778640,
    "id": "27ff27a4",
    "outputId": "d211aa66-bddb-425a-e359-eac9ad2c60dc",
    "source_hash": "1a65b352",
    "tags": []
   },
   "outputs": [
    {
     "name": "stdout",
     "output_type": "stream",
     "text": [
      "Maior valor tolerado: 2522.42 | Menor valor tolerado: -1358.74\n"
     ]
    },
    {
     "data": {
      "text/plain": [
       "1      7861\n",
       "60     7702\n",
       "72     5882\n",
       "103    5209\n",
       "134    4540\n",
       "171    3966\n",
       "52     3964\n",
       "227    2794\n",
       "280    2695\n",
       "38     2656\n",
       "Name: Creatinafosfoquinase, dtype: int64"
      ]
     },
     "execution_count": 12,
     "metadata": {},
     "output_type": "execute_result"
    }
   ],
   "source": [
    "# Identificando os valores máximo e mínimo limites da variável\n",
    "maior_valor_Creatinafosfoquinase = (df[\"Creatinafosfoquinase\"].mean()+2*df[\"Creatinafosfoquinase\"].std()) \n",
    "menor_valor_Creatinafosfoquinase = (df[\"Creatinafosfoquinase\"].mean()-2*df[\"Creatinafosfoquinase\"].std())\n",
    "print(f'Maior valor tolerado: {maior_valor_Creatinafosfoquinase:.2f} | Menor valor tolerado: {menor_valor_Creatinafosfoquinase:.2f}')\n",
    "\n",
    "# Definindo os outliers\n",
    "filtro_Creatinafosfoquinase = (df[\"Creatinafosfoquinase\"] > maior_valor_Creatinafosfoquinase) | (df[\"Creatinafosfoquinase\"] < menor_valor_Creatinafosfoquinase)\n",
    "\n",
    "# Exibindo os outliers em ordem decrescente\n",
    "df['Creatinafosfoquinase'][filtro_Creatinafosfoquinase].sort_values(ascending=False)"
   ]
  },
  {
   "cell_type": "code",
   "execution_count": 13,
   "id": "cca7b5e9",
   "metadata": {
    "cell_id": "9bc1b602-da79-4401-bca0-99f636857914",
    "colab": {
     "base_uri": "https://localhost:8080/",
     "height": 252
    },
    "deepnote_cell_type": "code",
    "deepnote_output_heights": [
     237
    ],
    "deepnote_to_be_reexecuted": false,
    "execution_millis": 476,
    "execution_start": 1643589778698,
    "id": "cca7b5e9",
    "outputId": "1c4deebd-435a-4408-ca80-2f6b2b2415e0",
    "source_hash": "afeff909",
    "tags": []
   },
   "outputs": [
    {
     "data": {
      "image/png": "[encoded data removed]",
      "text/plain": [
       "<Figure size 432x288 with 1 Axes>"
      ]
     },
     "metadata": {
      "needs_background": "light"
     },
     "output_type": "display_data"
    }
   ],
   "source": [
    "# Exibindo os outliers no Boxplot:\n",
    "ax = sns.boxplot(y=\"Creatinafosfoquinase\", data=df)"
   ]
  },
  {
   "cell_type": "markdown",
   "id": "28874b61",
   "metadata": {
    "cell_id": "9bffca60-ba26-4510-ad54-1c87a40a48e4",
    "deepnote_cell_type": "markdown",
    "id": "28874b61",
    "tags": []
   },
   "source": [
    "**Fração Ejeção**"
   ]
  },
  {
   "cell_type": "code",
   "execution_count": 14,
   "id": "1aa8ca28",
   "metadata": {
    "cell_id": "ec535f04-5c46-486b-b3c2-0abf68eb3926",
    "colab": {
     "base_uri": "https://localhost:8080/"
    },
    "deepnote_cell_type": "code",
    "deepnote_output_heights": [
     null,
     136
    ],
    "deepnote_to_be_reexecuted": false,
    "execution_millis": 31,
    "execution_start": 1643589779195,
    "id": "1aa8ca28",
    "outputId": "099328b5-5e08-4525-e04d-ac88a35e2b2b",
    "source_hash": "4fb1a0af",
    "tags": []
   },
   "outputs": [
    {
     "name": "stdout",
     "output_type": "stream",
     "text": [
      "Maior valor tolerado: 61.75 | Menor valor tolerado: 14.41\n"
     ]
    },
    {
     "data": {
      "text/plain": [
       "64     80\n",
       "217    70\n",
       "8      65\n",
       "52     62\n",
       "211    62\n",
       "17     14\n",
       "Name: Fracao_ejecao, dtype: int64"
      ]
     },
     "execution_count": 14,
     "metadata": {},
     "output_type": "execute_result"
    }
   ],
   "source": [
    "# Identificando os valores máximo e mínimo limites da variável\n",
    "maior_valor_Fracao_ejecao = (df[\"Fracao_ejecao\"].mean()+2*df[\"Fracao_ejecao\"].std()) \n",
    "menor_valor_Fracao_ejecao = (df[\"Fracao_ejecao\"].mean()-2*df[\"Fracao_ejecao\"].std())\n",
    "print(f'Maior valor tolerado: {maior_valor_Fracao_ejecao:.2f} | Menor valor tolerado: {menor_valor_Fracao_ejecao:.2f}')\n",
    "\n",
    "# Definindo os outliers\n",
    "filtro_Fracao_ejecao = (df[\"Fracao_ejecao\"] > maior_valor_Fracao_ejecao) | (df[\"Fracao_ejecao\"] < menor_valor_Fracao_ejecao)\n",
    "\n",
    "# Exibindo os outliers em ordem decrescente\n",
    "df['Fracao_ejecao'][filtro_Fracao_ejecao].sort_values(ascending=False)"
   ]
  },
  {
   "cell_type": "code",
   "execution_count": 15,
   "id": "4f728cc0",
   "metadata": {
    "cell_id": "d30887ff-a30d-42a2-8dee-13cf6511a878",
    "colab": {
     "base_uri": "https://localhost:8080/",
     "height": 252
    },
    "deepnote_cell_type": "code",
    "deepnote_output_heights": [
     237
    ],
    "deepnote_to_be_reexecuted": false,
    "execution_millis": 457,
    "execution_start": 1643589779235,
    "id": "4f728cc0",
    "outputId": "d177ab88-0e71-4132-8e3c-aed2eafb8050",
    "source_hash": "3a85b4dc",
    "tags": []
   },
   "outputs": [
    {
     "data": {
      "image/png": "[encoded data removed]",
      "text/plain": [
       "<Figure size 432x288 with 1 Axes>"
      ]
     },
     "metadata": {
      "needs_background": "light"
     },
     "output_type": "display_data"
    }
   ],
   "source": [
    "# Exibindo os outliers no Boxplot:\n",
    "ax = sns.boxplot(y=\"Fracao_ejecao\", data=df)"
   ]
  },
  {
   "cell_type": "markdown",
   "id": "7fa8774e",
   "metadata": {
    "cell_id": "cd07e39e-4c0d-4054-ab07-a3736e358c95",
    "deepnote_cell_type": "markdown",
    "id": "7fa8774e",
    "tags": []
   },
   "source": [
    "**Plaquetas**"
   ]
  },
  {
   "cell_type": "code",
   "execution_count": 16,
   "id": "d0708623",
   "metadata": {
    "cell_id": "558d04ef-ca4c-40bd-aef4-6f176d28ae31",
    "colab": {
     "base_uri": "https://localhost:8080/"
    },
    "deepnote_cell_type": "code",
    "deepnote_output_heights": [
     null,
     290
    ],
    "deepnote_to_be_reexecuted": false,
    "execution_millis": 44,
    "execution_start": 1643589779702,
    "id": "d0708623",
    "outputId": "a67daa3b-73f9-4a65-ecb9-008582d6d7ea",
    "source_hash": "50394a4f",
    "tags": []
   },
   "outputs": [
    {
     "name": "stdout",
     "output_type": "stream",
     "text": [
      "Maior valor tolerado: 458966.50 | Menor valor tolerado: 67749.56\n"
     ]
    },
    {
     "data": {
      "text/plain": [
       "109   850000.00\n",
       "296   742000.00\n",
       "105   621000.00\n",
       "287   543000.00\n",
       "240   533000.00\n",
       "117   507000.00\n",
       "224   504000.00\n",
       "69    497000.00\n",
       "212   481000.00\n",
       "55    461000.00\n",
       "230    62000.00\n",
       "281    51000.00\n",
       "15     47000.00\n",
       "277    25100.00\n",
       "Name: Plaquetas, dtype: float64"
      ]
     },
     "execution_count": 16,
     "metadata": {},
     "output_type": "execute_result"
    }
   ],
   "source": [
    "# Identificando os valores máximo e mínimo limites da variável\n",
    "maior_valor_Plaquetas = (df[\"Plaquetas\"].mean()+2*df[\"Plaquetas\"].std()) \n",
    "menor_valor_Plaquetas = (df[\"Plaquetas\"].mean()-2*df[\"Plaquetas\"].std())\n",
    "print(f'Maior valor tolerado: {maior_valor_Plaquetas:.2f} | Menor valor tolerado: {menor_valor_Plaquetas:.2f}')\n",
    "\n",
    "# Definindo os outliers\n",
    "filtro_Plaquetas = (df[\"Plaquetas\"] > maior_valor_Plaquetas) | (df[\"Plaquetas\"] < menor_valor_Plaquetas)\n",
    "\n",
    "# Exibindo os outliers em ordem decrescente\n",
    "df['Plaquetas'][filtro_Plaquetas].sort_values(ascending=False)"
   ]
  },
  {
   "cell_type": "code",
   "execution_count": 17,
   "id": "485f8bdc",
   "metadata": {
    "cell_id": "a7804fcc-30f5-42ef-96e3-570ee1750577",
    "colab": {
     "base_uri": "https://localhost:8080/",
     "height": 252
    },
    "deepnote_cell_type": "code",
    "deepnote_output_heights": [
     237
    ],
    "deepnote_to_be_reexecuted": false,
    "execution_millis": 580,
    "execution_start": 1643589779761,
    "id": "485f8bdc",
    "outputId": "c1aac90c-d648-4ba1-b46b-d91310940c2e",
    "source_hash": "81c9a323",
    "tags": []
   },
   "outputs": [
    {
     "data": {
      "image/png": "[encoded data removed]",
      "text/plain": [
       "<Figure size 432x288 with 1 Axes>"
      ]
     },
     "metadata": {
      "needs_background": "light"
     },
     "output_type": "display_data"
    }
   ],
   "source": [
    "# Exibindo os outliers no Boxplot:\n",
    "ax = sns.boxplot(y=\"Plaquetas\", data=df)"
   ]
  },
  {
   "cell_type": "markdown",
   "id": "68536f1a",
   "metadata": {
    "cell_id": "479c07bb-22ed-4f49-a352-d62cae1ed76e",
    "deepnote_cell_type": "markdown",
    "id": "68536f1a",
    "tags": []
   },
   "source": [
    "**Creatinina Soro**"
   ]
  },
  {
   "cell_type": "code",
   "execution_count": 18,
   "id": "eaf68ea3",
   "metadata": {
    "cell_id": "d4e9465e-e817-4ed9-b1f5-2e7bf5a610be",
    "colab": {
     "base_uri": "https://localhost:8080/"
    },
    "deepnote_cell_type": "code",
    "deepnote_output_heights": [
     null,
     252
    ],
    "deepnote_to_be_reexecuted": false,
    "execution_millis": 358,
    "execution_start": 1643589780350,
    "id": "eaf68ea3",
    "outputId": "4b44d8ea-c185-439b-ff8f-1d5e571123a9",
    "source_hash": "ce17ce34",
    "tags": []
   },
   "outputs": [
    {
     "name": "stdout",
     "output_type": "stream",
     "text": [
      "Maior valor tolerado: 3.46 | Menor valor tolerado: -0.68\n"
     ]
    },
    {
     "data": {
      "text/plain": [
       "9     9.40\n",
       "217   9.00\n",
       "52    6.80\n",
       "131   6.10\n",
       "28    5.80\n",
       "228   5.00\n",
       "48    4.40\n",
       "10    4.00\n",
       "282   3.80\n",
       "124   3.70\n",
       "35    3.50\n",
       "203   3.50\n",
       "Name: Creatinina_soro, dtype: float64"
      ]
     },
     "execution_count": 18,
     "metadata": {},
     "output_type": "execute_result"
    }
   ],
   "source": [
    "# Identificando os valores máximo e mínimo limites da variável\n",
    "maior_valor_Creatinina_soro = (df[\"Creatinina_soro\"].mean()+2*df[\"Creatinina_soro\"].std()) \n",
    "menor_valor_Creatinina_soro = (df[\"Creatinina_soro\"].mean()-2*df[\"Creatinina_soro\"].std())\n",
    "print(f'Maior valor tolerado: {maior_valor_Creatinina_soro:.2f} | Menor valor tolerado: {menor_valor_Creatinina_soro:.2f}')\n",
    "\n",
    "# Definindo os outliers\n",
    "filtro_Creatinina_soro = (df[\"Creatinina_soro\"] > maior_valor_Creatinina_soro) | (df[\"Creatinina_soro\"] < menor_valor_Creatinina_soro)\n",
    "\n",
    "# Exibindo os outliers em ordem decrescente\n",
    "df['Creatinina_soro'][filtro_Creatinina_soro].sort_values(ascending=False)"
   ]
  },
  {
   "cell_type": "code",
   "execution_count": 19,
   "id": "91e21921",
   "metadata": {
    "cell_id": "9b72ec22-d0d3-4eeb-b342-1182908b5cf7",
    "colab": {
     "base_uri": "https://localhost:8080/",
     "height": 252
    },
    "deepnote_cell_type": "code",
    "deepnote_output_heights": [
     237
    ],
    "deepnote_to_be_reexecuted": false,
    "execution_millis": 372,
    "execution_start": 1643589780430,
    "id": "91e21921",
    "outputId": "89f6b597-a9dc-4e7f-d399-904d28d865ec",
    "source_hash": "7d788ac2",
    "tags": []
   },
   "outputs": [
    {
     "data": {
      "image/png": "[encoded data removed]",
      "text/plain": [
       "<Figure size 432x288 with 1 Axes>"
      ]
     },
     "metadata": {
      "needs_background": "light"
     },
     "output_type": "display_data"
    }
   ],
   "source": [
    "# Exibindo os outliers no Boxplot:\n",
    "ax = sns.boxplot(y=\"Creatinina_soro\", data=df)"
   ]
  },
  {
   "cell_type": "markdown",
   "id": "26cef5ed",
   "metadata": {
    "cell_id": "b2f27dac-ec4e-4183-a14a-0e969a65b5b8",
    "deepnote_cell_type": "markdown",
    "id": "26cef5ed",
    "tags": []
   },
   "source": [
    "**Sódio Soro**"
   ]
  },
  {
   "cell_type": "code",
   "execution_count": 20,
   "id": "0c3c9882",
   "metadata": {
    "cell_id": "242f34af-44ea-458e-be95-d49464984d82",
    "colab": {
     "base_uri": "https://localhost:8080/"
    },
    "deepnote_cell_type": "code",
    "deepnote_output_heights": [
     null,
     232
    ],
    "deepnote_to_be_reexecuted": false,
    "execution_millis": 40,
    "execution_start": 1643589780809,
    "id": "0c3c9882",
    "outputId": "e732a8e3-b76d-4f92-904c-0b7919bd2890",
    "source_hash": "5436432a",
    "tags": []
   },
   "outputs": [
    {
     "name": "stdout",
     "output_type": "stream",
     "text": [
      "Maior valor tolerado: 145.45 | Menor valor tolerado: 127.80\n"
     ]
    },
    {
     "data": {
      "text/plain": [
       "236    148\n",
       "52     146\n",
       "17     127\n",
       "65     127\n",
       "230    127\n",
       "114    126\n",
       "225    125\n",
       "126    124\n",
       "19     121\n",
       "4      116\n",
       "199    113\n",
       "Name: Sodio_soro, dtype: int64"
      ]
     },
     "execution_count": 20,
     "metadata": {},
     "output_type": "execute_result"
    }
   ],
   "source": [
    "# Identificando os valores máximo e mínimo limites da variável\n",
    "maior_valor_Sodio_soro = (df[\"Sodio_soro\"].mean()+2*df[\"Sodio_soro\"].std()) \n",
    "menor_valor_Sodio_soro = (df[\"Sodio_soro\"].mean()-2*df[\"Sodio_soro\"].std())\n",
    "print(f'Maior valor tolerado: {maior_valor_Sodio_soro:.2f} | Menor valor tolerado: {menor_valor_Sodio_soro:.2f}')\n",
    "\n",
    "# Definindo os outliers\n",
    "filtro_Sodio_soro = (df[\"Sodio_soro\"] > maior_valor_Sodio_soro) | (df[\"Sodio_soro\"] < menor_valor_Sodio_soro)\n",
    "\n",
    "# Exibindo os outliers em ordem decrescente\n",
    "df['Sodio_soro'][filtro_Sodio_soro].sort_values(ascending=False)"
   ]
  },
  {
   "cell_type": "code",
   "execution_count": 21,
   "id": "fbd83b23",
   "metadata": {
    "cell_id": "38f8c53c-dd9c-4d0e-8346-d287189e034a",
    "colab": {
     "base_uri": "https://localhost:8080/",
     "height": 252
    },
    "deepnote_cell_type": "code",
    "deepnote_output_heights": [
     237
    ],
    "deepnote_to_be_reexecuted": false,
    "execution_millis": 531,
    "execution_start": 1643589780866,
    "id": "fbd83b23",
    "outputId": "f1618ce2-106b-427b-ea16-efbb06f790cf",
    "source_hash": "fe4e1c2c",
    "tags": []
   },
   "outputs": [
    {
     "data": {
      "image/png": "[encoded data removed]",
      "text/plain": [
       "<Figure size 432x288 with 1 Axes>"
      ]
     },
     "metadata": {
      "needs_background": "light"
     },
     "output_type": "display_data"
    }
   ],
   "source": [
    "# Exibindo os outliers no Boxplot:\n",
    "ax = sns.boxplot(y=\"Sodio_soro\", data=df)"
   ]
  },
  {
   "cell_type": "markdown",
   "id": "d2441945",
   "metadata": {
    "cell_id": "fd71fe27-0f6b-455d-918a-a2e6039746bd",
    "deepnote_cell_type": "markdown",
    "id": "d2441945",
    "tags": []
   },
   "source": [
    "Os outliers influenciam as visões de média, mediana e desvio padrão.  Conforme a análise acima, a colunas que apresenta mais dados desviantes ainda tem menos de 5% do database e não parecem ter relação direta com o resultado Morte por insuficiência cardíaca.\n",
    "\n",
    "Desse modo, nossa sugestão é, em vez de excluí-las, **substituí-las pelo valor médio**, pois em todas estas colunas a média é muito próxima do valor do 3º quartil (75%)."
   ]
  },
  {
   "cell_type": "code",
   "execution_count": 22,
   "id": "95989036",
   "metadata": {
    "cell_id": "4ce516df-adc9-4548-be6e-c7cdac04fb9e",
    "colab": {
     "base_uri": "https://localhost:8080/"
    },
    "deepnote_cell_type": "code",
    "deepnote_output_heights": [
     271
    ],
    "deepnote_to_be_reexecuted": false,
    "execution_millis": 20,
    "execution_start": 1643589781402,
    "id": "95989036",
    "outputId": "8ce438ae-4aad-47fb-f261-d35b55df1925",
    "source_hash": "1309f51f",
    "tags": []
   },
   "outputs": [
    {
     "data": {
      "text/plain": [
       "Idade                      60.83\n",
       "Anemia                      0.43\n",
       "Creatinafosfoquinase      581.84\n",
       "Diabetes                    0.42\n",
       "Fracao_ejecao              38.08\n",
       "Pressao_alta                0.35\n",
       "Plaquetas              263358.03\n",
       "Creatinina_soro             1.39\n",
       "Sodio_soro                136.63\n",
       "Sexo                        0.65\n",
       "Fumante                     0.32\n",
       "Tempo                     130.26\n",
       "Morte                       0.32\n",
       "dtype: float64"
      ]
     },
     "execution_count": 22,
     "metadata": {},
     "output_type": "execute_result"
    }
   ],
   "source": [
    "# Média:\n",
    "df.mean()"
   ]
  },
  {
   "cell_type": "code",
   "execution_count": 23,
   "id": "abd62b2b",
   "metadata": {
    "cell_id": "1ddfa42a-f30c-44b9-896e-ce4d26c42f92",
    "deepnote_cell_type": "code",
    "deepnote_output_heights": [
     232
    ],
    "deepnote_to_be_reexecuted": false,
    "execution_millis": 22,
    "execution_start": 1643589781430,
    "id": "abd62b2b",
    "source_hash": "81736bb5",
    "tags": []
   },
   "outputs": [],
   "source": [
    "# Realizando as alterações para a média de cada coluna:\n",
    "\n",
    "df.loc[filtro_Creatinafosfoquinase, 'Creatinafosfoquinase'] = df['Creatinafosfoquinase'].mean()\n",
    "df.loc[filtro_Fracao_ejecao, 'Fracao_ejecao'] = df['Fracao_ejecao'].mean()\n",
    "df.loc[filtro_Plaquetas, 'Plaquetas'] = df['Plaquetas'].mean()\n",
    "df.loc[filtro_Creatinina_soro, 'Creatinina_soro'] = df['Creatinina_soro'].mean()\n",
    "df.loc[filtro_Sodio_soro, 'Sodio_soro'] = df['Sodio_soro'].mean()"
   ]
  },
  {
   "cell_type": "code",
   "execution_count": 24,
   "id": "35bdcad5",
   "metadata": {
    "cell_id": "5ac68d53-f717-4535-8e89-b9a18560a9f7",
    "colab": {
     "base_uri": "https://localhost:8080/",
     "height": 300
    },
    "deepnote_cell_type": "code",
    "deepnote_to_be_reexecuted": false,
    "execution_millis": 233,
    "execution_start": 1643589781492,
    "id": "35bdcad5",
    "outputId": "398d48d9-0112-44b5-de01-2cdb694683a4",
    "source_hash": "8536bbd3",
    "tags": []
   },
   "outputs": [
    {
     "data": {
      "text/html": [
       "<div>\n",
       "<style scoped>\n",
       "    .dataframe tbody tr th:only-of-type {\n",
       "        vertical-align: middle;\n",
       "    }\n",
       "\n",
       "    .dataframe tbody tr th {\n",
       "        vertical-align: top;\n",
       "    }\n",
       "\n",
       "    .dataframe thead th {\n",
       "        text-align: right;\n",
       "    }\n",
       "</style>\n",
       "<table border=\"1\" class=\"dataframe\">\n",
       "  <thead>\n",
       "    <tr style=\"text-align: right;\">\n",
       "      <th></th>\n",
       "      <th>Idade</th>\n",
       "      <th>Creatinafosfoquinase</th>\n",
       "      <th>Fracao_ejecao</th>\n",
       "      <th>Plaquetas</th>\n",
       "      <th>Creatinina_soro</th>\n",
       "      <th>Sodio_soro</th>\n",
       "      <th>Tempo</th>\n",
       "    </tr>\n",
       "  </thead>\n",
       "  <tbody>\n",
       "    <tr>\n",
       "      <th>count</th>\n",
       "      <td>299.00</td>\n",
       "      <td>299.00</td>\n",
       "      <td>299.00</td>\n",
       "      <td>299.00</td>\n",
       "      <td>299.00</td>\n",
       "      <td>299.00</td>\n",
       "      <td>299.00</td>\n",
       "    </tr>\n",
       "    <tr>\n",
       "      <th>mean</th>\n",
       "      <td>60.83</td>\n",
       "      <td>443.21</td>\n",
       "      <td>37.67</td>\n",
       "      <td>255876.13</td>\n",
       "      <td>1.23</td>\n",
       "      <td>136.97</td>\n",
       "      <td>130.26</td>\n",
       "    </tr>\n",
       "    <tr>\n",
       "      <th>std</th>\n",
       "      <td>11.89</td>\n",
       "      <td>482.59</td>\n",
       "      <td>11.06</td>\n",
       "      <td>71753.28</td>\n",
       "      <td>0.48</td>\n",
       "      <td>3.49</td>\n",
       "      <td>77.61</td>\n",
       "    </tr>\n",
       "    <tr>\n",
       "      <th>min</th>\n",
       "      <td>40.00</td>\n",
       "      <td>23.00</td>\n",
       "      <td>15.00</td>\n",
       "      <td>70000.00</td>\n",
       "      <td>0.50</td>\n",
       "      <td>128.00</td>\n",
       "      <td>4.00</td>\n",
       "    </tr>\n",
       "    <tr>\n",
       "      <th>25%</th>\n",
       "      <td>51.00</td>\n",
       "      <td>116.50</td>\n",
       "      <td>30.00</td>\n",
       "      <td>216000.00</td>\n",
       "      <td>0.90</td>\n",
       "      <td>135.00</td>\n",
       "      <td>73.00</td>\n",
       "    </tr>\n",
       "    <tr>\n",
       "      <th>50%</th>\n",
       "      <td>60.00</td>\n",
       "      <td>250.00</td>\n",
       "      <td>38.00</td>\n",
       "      <td>263358.03</td>\n",
       "      <td>1.10</td>\n",
       "      <td>137.00</td>\n",
       "      <td>115.00</td>\n",
       "    </tr>\n",
       "    <tr>\n",
       "      <th>75%</th>\n",
       "      <td>70.00</td>\n",
       "      <td>582.00</td>\n",
       "      <td>42.50</td>\n",
       "      <td>294500.00</td>\n",
       "      <td>1.39</td>\n",
       "      <td>139.50</td>\n",
       "      <td>203.00</td>\n",
       "    </tr>\n",
       "    <tr>\n",
       "      <th>max</th>\n",
       "      <td>95.00</td>\n",
       "      <td>2522.00</td>\n",
       "      <td>60.00</td>\n",
       "      <td>454000.00</td>\n",
       "      <td>3.40</td>\n",
       "      <td>145.00</td>\n",
       "      <td>285.00</td>\n",
       "    </tr>\n",
       "  </tbody>\n",
       "</table>\n",
       "</div>"
      ],
      "text/plain": [
       "       Idade  Creatinafosfoquinase  Fracao_ejecao  Plaquetas  Creatinina_soro  \\\n",
       "count 299.00                299.00         299.00     299.00           299.00   \n",
       "mean   60.83                443.21          37.67  255876.13             1.23   \n",
       "std    11.89                482.59          11.06   71753.28             0.48   \n",
       "min    40.00                 23.00          15.00   70000.00             0.50   \n",
       "25%    51.00                116.50          30.00  216000.00             0.90   \n",
       "50%    60.00                250.00          38.00  263358.03             1.10   \n",
       "75%    70.00                582.00          42.50  294500.00             1.39   \n",
       "max    95.00               2522.00          60.00  454000.00             3.40   \n",
       "\n",
       "       Sodio_soro  Tempo  \n",
       "count      299.00 299.00  \n",
       "mean       136.97 130.26  \n",
       "std          3.49  77.61  \n",
       "min        128.00   4.00  \n",
       "25%        135.00  73.00  \n",
       "50%        137.00 115.00  \n",
       "75%        139.50 203.00  \n",
       "max        145.00 285.00  "
      ]
     },
     "execution_count": 24,
     "metadata": {},
     "output_type": "execute_result"
    }
   ],
   "source": [
    "# Testando a alteração:\n",
    "df.describe()"
   ]
  },
  {
   "cell_type": "markdown",
   "id": "0b84b164",
   "metadata": {
    "cell_id": "0462b53d-a1c8-46bd-877e-f167ffa2fb70",
    "deepnote_cell_type": "markdown",
    "id": "0b84b164",
    "tags": []
   },
   "source": [
    "## **5. Análise Detalhada**"
   ]
  },
  {
   "cell_type": "markdown",
   "id": "de77d21c",
   "metadata": {
    "id": "de77d21c"
   },
   "source": [
    "### **5.1 Histogramas do Dataset**"
   ]
  },
  {
   "cell_type": "code",
   "execution_count": 25,
   "id": "0063c10f",
   "metadata": {
    "cell_id": "654e0508-80e6-4778-a39f-6b111ac72d27",
    "colab": {
     "base_uri": "https://localhost:8080/",
     "height": 1000
    },
    "deepnote_cell_type": "code",
    "deepnote_output_heights": [
     503
    ],
    "deepnote_to_be_reexecuted": false,
    "execution_millis": 4366,
    "execution_start": 1643589781730,
    "id": "0063c10f",
    "outputId": "2630fdfb-e664-436a-d447-40d592704e2f",
    "source_hash": "f8ac89ae",
    "tags": []
   },
   "outputs": [
    {
     "data": {
      "image/png": "[encoded data removed]",
      "text/plain": [
       "<Figure size 720x1080 with 14 Axes>"
      ]
     },
     "metadata": {
      "needs_background": "light"
     },
     "output_type": "display_data"
    }
   ],
   "source": [
    "#Histograma do Dataset\n",
    "df.hist(layout = (7, 2), xlabelsize = 10, ylabelsize = 10, figsize = (10,15))\n",
    "plt.show()"
   ]
  },
  {
   "cell_type": "markdown",
   "id": "9b62abd4",
   "metadata": {
    "cell_id": "7b8a0876-6b2b-48af-a270-29f28bc5a351",
    "deepnote_cell_type": "markdown",
    "id": "9b62abd4",
    "tags": []
   },
   "source": [
    "### **5.2 Análise de risco de morte**"
   ]
  },
  {
   "cell_type": "markdown",
   "id": "e2db633e",
   "metadata": {
    "id": "e2db633e"
   },
   "source": [
    "A matriz abaixo é um excelente recurso visual que  permite identificar a correlação entre todas as variáveis monitoradas na base de dados:"
   ]
  },
  {
   "cell_type": "code",
   "execution_count": 26,
   "id": "a77b26e2",
   "metadata": {
    "cell_id": "3453c8b0-3f44-4840-980a-02e0ab1eeeea",
    "colab": {
     "base_uri": "https://localhost:8080/",
     "height": 583
    },
    "deepnote_cell_type": "code",
    "deepnote_output_heights": [
     351
    ],
    "deepnote_to_be_reexecuted": false,
    "execution_millis": 2417,
    "execution_start": 1643589786102,
    "id": "a77b26e2",
    "outputId": "96c036b3-4571-4577-ce18-769e68a65359",
    "source_hash": "70bda761",
    "tags": []
   },
   "outputs": [
    {
     "data": {
      "image/png": "[encoded data removed]",
      "text/plain": [
       "<Figure size 1080x576 with 2 Axes>"
      ]
     },
     "metadata": {
      "needs_background": "light"
     },
     "output_type": "display_data"
    }
   ],
   "source": [
    "# plot da matriz de correlação\n",
    "\n",
    "correlation = df.corr()\n",
    "plt.figure(figsize = (15,8))\n",
    "plot = sns.heatmap(correlation, annot = True, fmt=\".2f\", linewidths=.6, cmap=\"coolwarm\");"
   ]
  },
  {
   "cell_type": "markdown",
   "id": "72861e80",
   "metadata": {
    "cell_id": "0bed477f-a770-4d85-91a4-19eceefc2c30",
    "deepnote_cell_type": "code",
    "deepnote_to_be_reexecuted": false,
    "execution_start": 1643589788533,
    "id": "72861e80",
    "source_hash": "b623e53d",
    "tags": []
   },
   "source": [
    "Identificamos na análise acima os seguintes fatores como os três que tem maior correlação com o evento \"Morte\":\n",
    "1. Tempo\n",
    "2. Fracao_ejecao\n",
    "3. Creatinina_soro"
   ]
  },
  {
   "cell_type": "markdown",
   "id": "30539826",
   "metadata": {
    "id": "30539826"
   },
   "source": [
    "**Tempo vs. Morte**"
   ]
  },
  {
   "cell_type": "code",
   "execution_count": 27,
   "id": "18f20f57",
   "metadata": {
    "id": "18f20f57"
   },
   "outputs": [
    {
     "data": {
      "image/png": "[encoded data removed]",
      "text/plain": [
       "<Figure size 864x432 with 1 Axes>"
      ]
     },
     "metadata": {
      "needs_background": "light"
     },
     "output_type": "display_data"
    }
   ],
   "source": [
    "plt.figure(figsize=(12,6))\n",
    "sns.histplot(df[df['Morte']==0]['Tempo'], kde=False, bins=50, color='b', label = 'Sobreviventes')\n",
    "sns.histplot(df[df['Morte']==1]['Tempo'], kde=False, bins=50, color='r', label = 'Mortos')\n",
    "plt.xlabel('Período de acompanhamento (Dias)', fontsize=12)\n",
    "plt.ylabel('Contagem', fontsize=12)\n",
    "plt.title('Distribuição de Período de Acompanhamento de Pacientes', fontsize=18)\n",
    "plt.legend()\n",
    "plt.show()"
   ]
  },
  {
   "cell_type": "markdown",
   "id": "465fbb25",
   "metadata": {
    "id": "465fbb25"
   },
   "source": [
    "Vê-se que o risco é muito superior quando o período de acompanhamento do paciente é igual ou inferior a 115 dias:"
   ]
  },
  {
   "cell_type": "code",
   "execution_count": 28,
   "id": "b6a8d3a6",
   "metadata": {
    "colab": {
     "base_uri": "https://localhost:8080/"
    },
    "id": "b6a8d3a6",
    "outputId": "c4b02542-5214-44ce-c3bf-0239ad98cb69"
   },
   "outputs": [
    {
     "name": "stdout",
     "output_type": "stream",
     "text": [
      "0.5033112582781457\n",
      "0.13513513513513514\n"
     ]
    }
   ],
   "source": [
    "print(df[df['Tempo'] <= 115].Morte.mean())\n",
    "print(df[df['Tempo'] > 115].Morte.mean())"
   ]
  },
  {
   "cell_type": "markdown",
   "id": "b717727b",
   "metadata": {
    "id": "b717727b"
   },
   "source": [
    "**Fracao_ejecao vs. Morte**"
   ]
  },
  {
   "cell_type": "code",
   "execution_count": 29,
   "id": "896a3ba4",
   "metadata": {
    "colab": {
     "base_uri": "https://localhost:8080/",
     "height": 411
    },
    "id": "896a3ba4",
    "outputId": "f85a58ee-1a23-453e-e8eb-b4d49c968345"
   },
   "outputs": [
    {
     "data": {
      "image/png": "[encoded data removed]",
      "text/plain": [
       "<Figure size 864x432 with 1 Axes>"
      ]
     },
     "metadata": {
      "needs_background": "light"
     },
     "output_type": "display_data"
    }
   ],
   "source": [
    "plt.figure(figsize=(12,6))\n",
    "sns.histplot(df[df['Morte']==0]['Fracao_ejecao'], kde=False, bins=50, color='b', label = 'Sobreviventes')\n",
    "sns.histplot(df[df['Morte']==1]['Fracao_ejecao'], kde=False, bins=50, color='r', label = 'Mortos')\n",
    "plt.xlabel('Capacidade de ejeção do sangue em %', fontsize=12)\n",
    "plt.ylabel('Contagem', fontsize=12)\n",
    "plt.title('Distribuição de Capacidade de Ejeção', fontsize=18)\n",
    "plt.legend()\n",
    "plt.show()"
   ]
  },
  {
   "cell_type": "markdown",
   "id": "fad9a7fd",
   "metadata": {
    "id": "fad9a7fd"
   },
   "source": [
    "**Creatinina_soro vs. Morte**"
   ]
  },
  {
   "cell_type": "code",
   "execution_count": 30,
   "id": "dbc3b9bd",
   "metadata": {
    "colab": {
     "base_uri": "https://localhost:8080/",
     "height": 411
    },
    "id": "dbc3b9bd",
    "outputId": "1b7f4b35-b807-49ff-ff0f-973785024b07"
   },
   "outputs": [
    {
     "data": {
      "image/png": "[encoded data removed]",
      "text/plain": [
       "<Figure size 864x432 with 1 Axes>"
      ]
     },
     "metadata": {
      "needs_background": "light"
     },
     "output_type": "display_data"
    }
   ],
   "source": [
    "plt.figure(figsize=(12,6))\n",
    "sns.histplot(df[df['Morte']==0]['Creatinina_soro'], kde=False, bins=50, color='b', label = 'Sobreviventes')\n",
    "sns.histplot(df[df['Morte']==1]['Creatinina_soro'], kde=False, bins=50, color='r', label = 'Mortos')\n",
    "plt.xlabel('Quantidade de Creatinina (mg/dL)', fontsize=12)\n",
    "plt.ylabel('Contagem', fontsize=12)\n",
    "plt.title('Distribuição de Quantidade de Creatinina', fontsize=18)\n",
    "plt.legend()\n",
    "plt.show()"
   ]
  }
 ],
 "metadata": {
  "colab": {
   "collapsed_sections": [],
   "name": "analise_heart_failure-grupo_4 (2).ipynb",
   "provenance": []
  },
  "deepnote": {
   "is_reactive": false
  },
  "deepnote_execution_queue": [],
  "deepnote_notebook_id": "da3a204e-bbc5-4a13-8558-d8259e647fd7",
  "kernelspec": {
   "display_name": "Python 3",
   "language": "python",
   "name": "python3"
  },
  "language_info": {
   "codemirror_mode": {
    "name": "ipython",
    "version": 3
   },
   "file_extension": ".py",
   "mimetype": "text/x-python",
   "name": "python",
   "nbconvert_exporter": "python",
   "pygments_lexer": "ipython3",
   "version": "3.8.8"
  }
 },
 "nbformat": 4,
 "nbformat_minor": 5
}
